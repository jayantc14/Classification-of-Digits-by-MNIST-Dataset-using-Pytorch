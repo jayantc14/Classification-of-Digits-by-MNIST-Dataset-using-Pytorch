{
  "nbformat": 4,
  "nbformat_minor": 0,
  "metadata": {
    "accelerator": "GPU",
    "colab": {
      "name": "FNN.ipynb",
      "provenance": [],
      "collapsed_sections": []
    },
    "kernelspec": {
      "display_name": "Python 3",
      "name": "python3"
    }
  },
  "cells": [
    {
      "cell_type": "code",
      "metadata": {
        "id": "oK1scYThmnu6"
      },
      "source": [
        "%matplotlib inline\r\n",
        "import torch\r\n",
        "import torch.nn as nn\r\n",
        "import torch.nn.functional as F\r\n",
        "import numpy as np\r\n",
        "from torchvision import transforms, datasets\r\n",
        "import torch.optim as optim\r\n",
        "from torch.autograd import Variable\r\n",
        "import torchvision\r\n",
        "\r\n",
        "import matplotlib.pyplot as plt\r\n",
        "import time"
      ],
      "execution_count": null,
      "outputs": []
    },
    {
      "cell_type": "code",
      "metadata": {
        "id": "qvoi4DUEnn8w"
      },
      "source": [
        "# apply_transform = transforms.Compose([transforms.Resize(32), transforms.ToTensor()])\r\n",
        "apply_transform = transforms.Compose([transforms.ToTensor()])\r\n",
        "BatchSize = 256\r\n",
        "BatchSize2 = 1024\r\n",
        "\r\n",
        "trainset = datasets.MNIST(root='./MNIST'\r\n",
        "                           ,train = True\r\n",
        "                          , download = True\r\n",
        "                         , transform = apply_transform)\r\n",
        "trainLoader = torch.utils.data.DataLoader(\r\n",
        "    trainset,\r\n",
        "    batch_size = BatchSize,\r\n",
        "    shuffle=True,\r\n",
        "    num_workers=4\r\n",
        ")\r\n",
        "\r\n",
        "testset = datasets.MNIST(root='./MNIST'\r\n",
        "                           ,train = False\r\n",
        "                          , download = True\r\n",
        "                         , transform = apply_transform)\r\n",
        "testLoader = torch.utils.data.DataLoader(\r\n",
        "    testset,\r\n",
        "    batch_size = BatchSize,\r\n",
        "    shuffle=True,\r\n",
        "    num_workers=4\r\n",
        ")\r\n",
        "\r\n",
        "trainset2 = datasets.MNIST(root='./MNIST'\r\n",
        "                           ,train = True\r\n",
        "                          , download = True\r\n",
        "                         , transform = apply_transform)\r\n",
        "trainLoader2 = torch.utils.data.DataLoader(\r\n",
        "    trainset2,\r\n",
        "    batch_size = BatchSize2,\r\n",
        "    shuffle=True,\r\n",
        "    num_workers=4\r\n",
        ")\r\n",
        "\r\n",
        "testset2 = datasets.MNIST(root='./MNIST'\r\n",
        "                           ,train = False\r\n",
        "                          , download = True\r\n",
        "                         , transform = apply_transform)\r\n",
        "testLoader2 = torch.utils.data.DataLoader(\r\n",
        "    testset2,\r\n",
        "    batch_size = BatchSize2,\r\n",
        "    shuffle=True,\r\n",
        "    num_workers=4\r\n",
        ")"
      ],
      "execution_count": null,
      "outputs": []
    },
    {
      "cell_type": "code",
      "metadata": {
        "colab": {
          "base_uri": "https://localhost:8080/"
        },
        "id": "HfqiRxzZogvc",
        "outputId": "ac3e2ef0-51ea-4cb3-cbfb-3c979e1cc8ff"
      },
      "source": [
        "# Size of train and test datasets\r\n",
        "print('No. of samples in train set:' + str(len(trainLoader.dataset)))\r\n",
        "print('No. of samples in test set:' + str(len(testLoader.dataset)))\r\n",
        "\r\n",
        "# Size of train and test datasets\r\n",
        "print('No. of samples in train set:' + str(len(trainLoader2.dataset)))\r\n",
        "print('No. of samples in test set:' + str(len(testLoader2.dataset)))"
      ],
      "execution_count": null,
      "outputs": [
        {
          "output_type": "stream",
          "text": [
            "No. of samples in train set:60000\n",
            "No. of samples in test set:10000\n",
            "No. of samples in train set:60000\n",
            "No. of samples in test set:10000\n"
          ],
          "name": "stdout"
        }
      ]
    },
    {
      "cell_type": "code",
      "metadata": {
        "id": "M_Z4BXCYp79D"
      },
      "source": [
        "class FFNN(nn.Module): #nn.Module --> Base class for all Neural Network modules\r\n",
        "  def __init__(self):\r\n",
        "    super(FFNN, self).__init__()\r\n",
        "    \r\n",
        "    self.fc1 = nn.Linear(784, 100)\r\n",
        "    self.fc2 = nn.Linear(100, 10)\r\n",
        "    self.sigmoid = nn.Sigmoid()\r\n",
        "\r\n",
        "  def forward(self, x):\r\n",
        "    x = self.fc1(x)\r\n",
        "    x = self.sigmoid(x)\r\n",
        "    x = self.fc2(x)\r\n",
        "    x = F.softmax(x, dim=1)\r\n",
        "    return x"
      ],
      "execution_count": null,
      "outputs": []
    },
    {
      "cell_type": "code",
      "metadata": {
        "colab": {
          "base_uri": "https://localhost:8080/"
        },
        "id": "bEtgzXZPrB4Z",
        "outputId": "ad51dbe4-3033-4b5f-8a79-86b25d3b941f"
      },
      "source": [
        "# use_gpu = torch.cuda.is_available()\r\n",
        "# net1 = FFNN()\r\n",
        "# net2 = FFNN()\r\n",
        "# net3 = FFNN()\r\n",
        "# net4 = FFNN()\r\n",
        "\r\n",
        "# if use_gpu:\r\n",
        "#   print('GPU is available!')\r\n",
        "#   net1 = net1.cuda()\r\n",
        "#   net2 = net2.cuda()\r\n",
        "#   net3 = net3.cuda()\r\n",
        "#   net4 = net4.cuda()"
      ],
      "execution_count": null,
      "outputs": [
        {
          "output_type": "stream",
          "text": [
            "GPU is available!\n"
          ],
          "name": "stdout"
        }
      ]
    },
    {
      "cell_type": "markdown",
      "metadata": {
        "id": "7ySEcTtMQTLS"
      },
      "source": [
        "##Q1\r\n",
        "Using batchsize 256 and 1024"
      ]
    },
    {
      "cell_type": "code",
      "metadata": {
        "colab": {
          "base_uri": "https://localhost:8080/"
        },
        "id": "u2odjBPlrVRL",
        "outputId": "2ed6158b-4633-40ef-9907-bf054ca390fe"
      },
      "source": [
        "criterion = nn.CrossEntropyLoss()\r\n",
        "learning_rate1 = 0.1\r\n",
        "optimizer1 = optim.SGD(net1.parameters(), lr = learning_rate1, momentum=0.9)\r\n",
        "num_epochs = 25\r\n",
        "use_gpu = torch.cuda.is_available()\r\n",
        "net1 = FFNN()\r\n",
        "\r\n",
        "if use_gpu:\r\n",
        "  print('GPU is available!')\r\n",
        "  net1 = net1.cuda()\r\n",
        "train_loss = []\r\n",
        "train_acc = []\r\n",
        "for epoch in range(num_epochs):\r\n",
        "  running_loss = 0.0\r\n",
        "  running_corr = 0\r\n",
        "  for i, data in enumerate(trainLoader):\r\n",
        "    inputs, labels = data\r\n",
        "    if use_gpu:\r\n",
        "      inputs, labels = inputs.cuda(), labels.cuda()\r\n",
        "      # Initializing model gradients to zero\r\n",
        "      optimizer1.zero_grad()\r\n",
        "      # Data feed-forward through the network\r\n",
        "      tempin = inputs.view(inputs.shape[0], -1)\r\n",
        "      # tempin1 = inputs.reshape(inputs.shape[0], -1)\r\n",
        "      outputs1 = net1(tempin)\r\n",
        "      preds1 = torch.argmax(outputs1, dim=1)\r\n",
        "      # Finding the loss\r\n",
        "      loss = criterion(outputs1, labels)\r\n",
        "      # Accumulating the loss for each batch\r\n",
        "      running_loss+=loss\r\n",
        "      # Accumulating the number of correct predictions\r\n",
        "      running_corr += torch.sum(preds1 == labels)\r\n",
        "\r\n",
        "  totalLoss1 = running_loss/(i+1)\r\n",
        "  # Calculating gradients\r\n",
        "  totalLoss1.backward()\r\n",
        "  #Updating model parameters\r\n",
        "  optimizer1.step()\r\n",
        "\r\n",
        "  epoch_loss = running_loss.item()/(i+1) # Total loss for one epoch\r\n",
        "  epoch_acc = running_corr.item()/60000\r\n",
        "\r\n",
        "  train_loss.append(epoch_loss) # Saving the loss over epochs for plotting the graph\r\n",
        "  train_acc.append(epoch_acc)\r\n",
        "\r\n",
        "  print('Epoch {:.0f}/{:.0f} : Training loss: {:.4f} | Training accuracy: {:.4f}'.format(epoch+1, 50, epoch_loss, epoch_acc))"
      ],
      "execution_count": null,
      "outputs": [
        {
          "output_type": "stream",
          "text": [
            "GPU is available!\n",
            "Epoch 1/50 : Training loss: 2.3034 | Training accuracy: 0.0993\n",
            "Epoch 2/50 : Training loss: 2.3034 | Training accuracy: 0.0993\n",
            "Epoch 3/50 : Training loss: 2.3034 | Training accuracy: 0.0993\n",
            "Epoch 4/50 : Training loss: 2.3035 | Training accuracy: 0.0993\n",
            "Epoch 5/50 : Training loss: 2.3035 | Training accuracy: 0.0993\n",
            "Epoch 6/50 : Training loss: 2.3035 | Training accuracy: 0.0993\n",
            "Epoch 7/50 : Training loss: 2.3034 | Training accuracy: 0.0993\n",
            "Epoch 8/50 : Training loss: 2.3035 | Training accuracy: 0.0993\n",
            "Epoch 9/50 : Training loss: 2.3034 | Training accuracy: 0.0993\n",
            "Epoch 10/50 : Training loss: 2.3035 | Training accuracy: 0.0993\n",
            "Epoch 11/50 : Training loss: 2.3034 | Training accuracy: 0.0993\n",
            "Epoch 12/50 : Training loss: 2.3034 | Training accuracy: 0.0993\n",
            "Epoch 13/50 : Training loss: 2.3035 | Training accuracy: 0.0993\n",
            "Epoch 14/50 : Training loss: 2.3034 | Training accuracy: 0.0993\n",
            "Epoch 15/50 : Training loss: 2.3035 | Training accuracy: 0.0993\n",
            "Epoch 16/50 : Training loss: 2.3034 | Training accuracy: 0.0993\n",
            "Epoch 17/50 : Training loss: 2.3034 | Training accuracy: 0.0993\n",
            "Epoch 18/50 : Training loss: 2.3035 | Training accuracy: 0.0993\n",
            "Epoch 19/50 : Training loss: 2.3034 | Training accuracy: 0.0993\n",
            "Epoch 20/50 : Training loss: 2.3034 | Training accuracy: 0.0993\n",
            "Epoch 21/50 : Training loss: 2.3034 | Training accuracy: 0.0993\n",
            "Epoch 22/50 : Training loss: 2.3034 | Training accuracy: 0.0993\n",
            "Epoch 23/50 : Training loss: 2.3034 | Training accuracy: 0.0993\n",
            "Epoch 24/50 : Training loss: 2.3035 | Training accuracy: 0.0993\n",
            "Epoch 25/50 : Training loss: 2.3034 | Training accuracy: 0.0993\n"
          ],
          "name": "stdout"
        }
      ]
    },
    {
      "cell_type": "code",
      "metadata": {
        "id": "PwNjhEJ2BLax",
        "colab": {
          "base_uri": "https://localhost:8080/"
        },
        "outputId": "2914bb0a-e2aa-40ef-fc97-cebc7a3d6884"
      },
      "source": [
        "correct_pred1 = 0\r\n",
        "loss_pred1 = 0\r\n",
        "for data in testLoader:\r\n",
        "  inputs, labels = data\r\n",
        "  if use_gpu:\r\n",
        "    inputs, labels = inputs.cuda(), labels.cuda()\r\n",
        "  output1 = net1(inputs.view(inputs.shape[0], -1))\r\n",
        "  preds1 = torch.argmax(output1, dim=1)\r\n",
        "  correct_pred1 += torch.sum(preds1 == labels)\r\n",
        "  loss_pred1 = criterion(output1, labels)\r\n",
        "\r\n",
        "test_accuracy = correct_pred1.item()/10000.0\r\n",
        "\r\n",
        "print('Testing accuracy (Batch size=256, lr=0.1) = ', test_accuracy* 100)\r\n",
        "print('Loss ' + str(loss_pred1))"
      ],
      "execution_count": null,
      "outputs": [
        {
          "output_type": "stream",
          "text": [
            "Testing accuracy (Batch size=256, lr=0.1) =  10.32\n",
            "Loss tensor(2.3130, device='cuda:0', grad_fn=<NllLossBackward>)\n"
          ],
          "name": "stdout"
        }
      ]
    },
    {
      "cell_type": "code",
      "metadata": {
        "id": "pmMqsqjttqxR",
        "colab": {
          "base_uri": "https://localhost:8080/"
        },
        "outputId": "87219458-d910-4f07-add5-40e52fba9061"
      },
      "source": [
        "criterion = nn.CrossEntropyLoss()\r\n",
        "learning_rate2 = 0.1\r\n",
        "optimizer2 = optim.SGD(net2.parameters(), lr = learning_rate2, momentum=0.9)\r\n",
        "num_epoch2 = 25\r\n",
        "use_gpu = torch.cuda.is_available()\r\n",
        "net2 = FFNN()\r\n",
        "\r\n",
        "if use_gpu:\r\n",
        "  print('GPU is available!')\r\n",
        "  net2 = net2.cuda()\r\n",
        "train_loss2 = []\r\n",
        "train_acc2 = []\r\n",
        "for epoch in range(num_epoch2):\r\n",
        "  running_loss = 0.0\r\n",
        "  running_corr = 0\r\n",
        "\r\n",
        "  for i, data in enumerate(trainLoader2):\r\n",
        "    inputs, labels = data\r\n",
        "    if use_gpu:\r\n",
        "      inputs, labels = inputs.cuda(), labels.cuda()\r\n",
        "      # Initializing model gradients to zero\r\n",
        "      optimizer2.zero_grad()\r\n",
        "      # Data feed-forward through the network\r\n",
        "      outputs2 = net2(inputs.view(inputs.shape[0], -1)) \r\n",
        "      preds2 = torch.argmax(outputs2, dim=1)\r\n",
        "      # Finding the loss\r\n",
        "      loss = criterion(outputs2, labels)\r\n",
        "      # Accumulating the loss for each batch\r\n",
        "      running_loss+=loss\r\n",
        "      # Accumulating the number of correct predictions\r\n",
        "      running_corr += torch.sum(preds2 == labels)\r\n",
        "  \r\n",
        "  \r\n",
        "  totalLoss2 = running_loss/(i+1)\r\n",
        "  # Calculating gradients\r\n",
        "  totalLoss2.backward()\r\n",
        "  #Updating model parameters\r\n",
        "  optimizer2.step()\r\n",
        "\r\n",
        "  epoch_loss = running_loss.item()/(i+1) # Total loss for one epoch\r\n",
        "  epoch_acc = running_corr.item()/60000\r\n",
        "\r\n",
        "  train_loss2.append(epoch_loss) # Saving the loss over epochs for plotting the graph\r\n",
        "  train_acc2.append(epoch_acc)\r\n",
        "\r\n",
        "  print('Epoch {:.0f}/{:.0f} : Training loss: {:.4f} | Training accuracy: {:.4f}'.format(epoch+1, 50, epoch_loss, epoch_acc))"
      ],
      "execution_count": null,
      "outputs": [
        {
          "output_type": "stream",
          "text": [
            "GPU is available!\n",
            "Epoch 1/50 : Training loss: 2.3024 | Training accuracy: 0.0584\n",
            "Epoch 2/50 : Training loss: 2.3024 | Training accuracy: 0.0584\n",
            "Epoch 3/50 : Training loss: 2.3024 | Training accuracy: 0.0584\n",
            "Epoch 4/50 : Training loss: 2.3024 | Training accuracy: 0.0584\n",
            "Epoch 5/50 : Training loss: 2.3024 | Training accuracy: 0.0584\n",
            "Epoch 6/50 : Training loss: 2.3024 | Training accuracy: 0.0584\n",
            "Epoch 7/50 : Training loss: 2.3024 | Training accuracy: 0.0584\n",
            "Epoch 8/50 : Training loss: 2.3024 | Training accuracy: 0.0584\n",
            "Epoch 9/50 : Training loss: 2.3024 | Training accuracy: 0.0584\n",
            "Epoch 10/50 : Training loss: 2.3024 | Training accuracy: 0.0584\n",
            "Epoch 11/50 : Training loss: 2.3024 | Training accuracy: 0.0584\n",
            "Epoch 12/50 : Training loss: 2.3024 | Training accuracy: 0.0584\n",
            "Epoch 13/50 : Training loss: 2.3024 | Training accuracy: 0.0584\n",
            "Epoch 14/50 : Training loss: 2.3024 | Training accuracy: 0.0584\n",
            "Epoch 15/50 : Training loss: 2.3024 | Training accuracy: 0.0584\n",
            "Epoch 16/50 : Training loss: 2.3024 | Training accuracy: 0.0584\n",
            "Epoch 17/50 : Training loss: 2.3024 | Training accuracy: 0.0584\n",
            "Epoch 18/50 : Training loss: 2.3024 | Training accuracy: 0.0584\n",
            "Epoch 19/50 : Training loss: 2.3024 | Training accuracy: 0.0584\n",
            "Epoch 20/50 : Training loss: 2.3024 | Training accuracy: 0.0584\n",
            "Epoch 21/50 : Training loss: 2.3024 | Training accuracy: 0.0584\n",
            "Epoch 22/50 : Training loss: 2.3024 | Training accuracy: 0.0584\n",
            "Epoch 23/50 : Training loss: 2.3024 | Training accuracy: 0.0584\n",
            "Epoch 24/50 : Training loss: 2.3024 | Training accuracy: 0.0584\n",
            "Epoch 25/50 : Training loss: 2.3024 | Training accuracy: 0.0584\n"
          ],
          "name": "stdout"
        }
      ]
    },
    {
      "cell_type": "code",
      "metadata": {
        "id": "q56qmorXBtNy",
        "colab": {
          "base_uri": "https://localhost:8080/"
        },
        "outputId": "ac3f8cc8-30a3-4ee7-aa51-b427753e5f6d"
      },
      "source": [
        "correct_pred2 = 0\r\n",
        "loss_pred2 = 0\r\n",
        "for data in testLoader2:\r\n",
        "  input, labels = data\r\n",
        "  if use_gpu:\r\n",
        "    inputs, labels = input.cuda(), labels.cuda()\r\n",
        "  output = net2(inputs.view(inputs.shape[0], -1))\r\n",
        "  preds2 = torch.argmax(output, dim=1)\r\n",
        "  correct_pred2 += torch.sum(preds2 == labels)\r\n",
        "  loss_pred2 += criterion(output, labels)\r\n",
        "\r\n",
        "test_accuracy2 = correct_pred2.item()/10000.0\r\n",
        "print('Testing accuracy (Batch size=1024, lr=0.1) = ', test_accuracy2* 100)\r\n",
        "print('Loss ' + str(loss_pred2))"
      ],
      "execution_count": null,
      "outputs": [
        {
          "output_type": "stream",
          "text": [
            "Testing accuracy (Batch size=1024, lr=0.1) =  5.609999999999999\n",
            "Loss tensor(23.0244, device='cuda:0', grad_fn=<AddBackward0>)\n"
          ],
          "name": "stdout"
        }
      ]
    },
    {
      "cell_type": "code",
      "metadata": {
        "id": "KxNQ8DFAyEA0",
        "colab": {
          "base_uri": "https://localhost:8080/",
          "height": 667
        },
        "outputId": "da75d6d5-45b4-465d-da5c-996fb324dd2b"
      },
      "source": [
        "fig = plt.figure(figsize=[15,5])\r\n",
        "plt.subplot(121)\r\n",
        "plt.plot(range(num_epochs), train_loss, 'r-', label='Batch size=256')\r\n",
        "plt.plot(range(num_epoch2), train_loss2, 'r-', color='blue', label='Batch size=1024')\r\n",
        "\r\n",
        "plt.legend(loc='upper right')\r\n",
        "plt.xlabel('Epoch')\r\n",
        "plt.ylabel('Training Loss/Error')\r\n",
        "\r\n",
        "fig = plt.figure(figsize=[15,5])\r\n",
        "plt.subplot(121)\r\n",
        "plt.plot(range(num_epochs), train_acc, 'r-', label='Batch size=256')\r\n",
        "plt.plot(range(num_epoch2), train_acc2, 'r-', color='blue', label='Batch size=1024')\r\n",
        "\r\n",
        "plt.legend(loc='upper right')\r\n",
        "plt.xlabel('Epoch')\r\n",
        "plt.ylabel('Training Accuracy')"
      ],
      "execution_count": null,
      "outputs": [
        {
          "output_type": "execute_result",
          "data": {
            "text/plain": [
              "Text(0, 0.5, 'Training Accuracy')"
            ]
          },
          "metadata": {
            "tags": []
          },
          "execution_count": 12
        },
        {
          "output_type": "display_data",
          "data": {
            "image/png": "[encoded data removed]",
            "text/plain": [
              "<Figure size 1080x360 with 1 Axes>"
            ]
          },
          "metadata": {
            "tags": [],
            "needs_background": "light"
          }
        },
        {
          "output_type": "display_data",
          "data": {
            "image/png": "[encoded data removed]",
            "text/plain": [
              "<Figure size 1080x360 with 1 Axes>"
            ]
          },
          "metadata": {
            "tags": [],
            "needs_background": "light"
          }
        }
      ]
    },
    {
      "cell_type": "markdown",
      "metadata": {
        "id": "XHBlj_dRQOYD"
      },
      "source": [
        "##Q2\r\n",
        "lr -> 0.025, 0.05, 0.1, 0.2, 0.5"
      ]
    },
    {
      "cell_type": "code",
      "metadata": {
        "id": "kt6XUe2CQQRn"
      },
      "source": [
        "lr_arr = [0.025, 0.05, 0.1, 0.2, 0.5]"
      ],
      "execution_count": null,
      "outputs": []
    },
    {
      "cell_type": "code",
      "metadata": {
        "colab": {
          "base_uri": "https://localhost:8080/"
        },
        "id": "P4rdkTP6Qew5",
        "outputId": "48355daf-accc-4241-8df9-069efcc285d3"
      },
      "source": [
        "use_gpu = torch.cuda.is_available()\r\n",
        "net3 = FFNN()\r\n",
        "testacc = []\r\n",
        "for learning_rate1 in lr_arr:\r\n",
        "  print(\"Doing for learning_rate \" + str(learning_rate1) )\r\n",
        "  if use_gpu:\r\n",
        "    net3 = net3.cuda()\r\n",
        "  criterion = nn.CrossEntropyLoss()\r\n",
        "  # learning_rate1 = 0.1\r\n",
        "  optimizer3 = optim.SGD(net3.parameters(), lr = learning_rate1, momentum=0.9)\r\n",
        "  num_epochs = 10\r\n",
        "\r\n",
        "  train_loss = []\r\n",
        "  train_acc = []\r\n",
        "  for epoch in range(num_epochs):\r\n",
        "    running_loss = 0.0\r\n",
        "    running_corr = 0\r\n",
        "    for i, data in enumerate(trainLoader):\r\n",
        "      inputs, labels = data\r\n",
        "      if use_gpu:\r\n",
        "        inputs, labels = inputs.cuda(), labels.cuda()\r\n",
        "        # Initializing model gradients to zero\r\n",
        "        optimizer3.zero_grad()\r\n",
        "        # Data feed-forward through the network\r\n",
        "        outputs3 = net3(inputs.view(inputs.shape[0], -1))\r\n",
        "        preds3 = torch.argmax(outputs3, dim=1)\r\n",
        "        # Finding the loss\r\n",
        "        loss = criterion(outputs3, labels)\r\n",
        "        # Accumulating the loss for each batch\r\n",
        "        running_loss+=loss\r\n",
        "        # Accumulating the number of correct predictions\r\n",
        "        running_corr += torch.sum(preds3 == labels)\r\n",
        "\r\n",
        "    totalLoss3 = running_loss/(i+1)\r\n",
        "    # Calculating gradients\r\n",
        "    totalLoss3.backward()\r\n",
        "    #Updating model parameters\r\n",
        "    optimizer3.step()\r\n",
        "\r\n",
        "    epoch_loss = running_loss.item()/(i+1) # Total loss for one epoch\r\n",
        "    epoch_acc = running_corr.item()/60000\r\n",
        "\r\n",
        "    train_loss.append(epoch_loss) # Saving the loss over epochs for plotting the graph\r\n",
        "    train_acc.append(epoch_acc)\r\n",
        "\r\n",
        "    print('Epoch {:.0f}/{:.0f} : Training loss: {:.4f} | Training accuracy: {:.4f}'.format(epoch+1, 50, epoch_loss, epoch_acc))\r\n",
        "\r\n",
        "\r\n",
        "  correct_pred2 = 0\r\n",
        "  loss_pred2 = 0\r\n",
        "  for data in testLoader:\r\n",
        "    input, labels = data\r\n",
        "    if use_gpu:\r\n",
        "      inputs, labels = input.cuda(), labels.cuda()\r\n",
        "    output = net3(inputs.view(inputs.shape[0], -1))\r\n",
        "    preds2 = torch.argmax(output, dim=1)\r\n",
        "    loss = criterion(output, labels)\r\n",
        "    loss_pred2 += loss\r\n",
        "    correct_pred2 += torch.sum(preds2 == labels)\r\n",
        "\r\n",
        "  test_accuracy2 = correct_pred2.item()/10000.0\r\n",
        "  testacc.append(test_accuracy2)\r\n",
        "  print('Testing accuracy (Batch size=256, lr=' + str(learning_rate1) + ') = ', test_accuracy2* 100)\r\n",
        "  print('Loss ' + str(loss_pred2))"
      ],
      "execution_count": null,
      "outputs": [
        {
          "output_type": "stream",
          "text": [
            "Doing for learning_rate 0.025\n",
            "Epoch 1/50 : Training loss: 2.3031 | Training accuracy: 0.1020\n",
            "Epoch 2/50 : Training loss: 2.3031 | Training accuracy: 0.1020\n",
            "Epoch 3/50 : Training loss: 2.3031 | Training accuracy: 0.1021\n",
            "Epoch 4/50 : Training loss: 2.3030 | Training accuracy: 0.1021\n",
            "Epoch 5/50 : Training loss: 2.3030 | Training accuracy: 0.1021\n",
            "Epoch 6/50 : Training loss: 2.3030 | Training accuracy: 0.1021\n",
            "Epoch 7/50 : Training loss: 2.3029 | Training accuracy: 0.1022\n",
            "Epoch 8/50 : Training loss: 2.3029 | Training accuracy: 0.1022\n",
            "Epoch 9/50 : Training loss: 2.3028 | Training accuracy: 0.1022\n",
            "Epoch 10/50 : Training loss: 2.3028 | Training accuracy: 0.1022\n",
            "Testing accuracy (Batch size=256, lr=0.025) =  10.100000000000001\n",
            "Loss tensor(92.1053, device='cuda:0', grad_fn=<AddBackward0>)\n",
            "Doing for learning_rate 0.05\n",
            "Epoch 1/50 : Training loss: 2.3027 | Training accuracy: 0.1022\n",
            "Epoch 2/50 : Training loss: 2.3027 | Training accuracy: 0.1022\n",
            "Epoch 3/50 : Training loss: 2.3027 | Training accuracy: 0.1022\n",
            "Epoch 4/50 : Training loss: 2.3027 | Training accuracy: 0.1022\n",
            "Epoch 5/50 : Training loss: 2.3026 | Training accuracy: 0.1022\n",
            "Epoch 6/50 : Training loss: 2.3025 | Training accuracy: 0.1022\n",
            "Epoch 7/50 : Training loss: 2.3025 | Training accuracy: 0.1022\n",
            "Epoch 8/50 : Training loss: 2.3024 | Training accuracy: 0.1022\n",
            "Epoch 9/50 : Training loss: 2.3023 | Training accuracy: 0.1022\n",
            "Epoch 10/50 : Training loss: 2.3022 | Training accuracy: 0.1022\n",
            "Testing accuracy (Batch size=256, lr=0.05) =  10.100000000000001\n",
            "Loss tensor(92.0827, device='cuda:0', grad_fn=<AddBackward0>)\n",
            "Doing for learning_rate 0.1\n",
            "Epoch 1/50 : Training loss: 2.3021 | Training accuracy: 0.1022\n",
            "Epoch 2/50 : Training loss: 2.3021 | Training accuracy: 0.1022\n",
            "Epoch 3/50 : Training loss: 2.3020 | Training accuracy: 0.1022\n",
            "Epoch 4/50 : Training loss: 2.3019 | Training accuracy: 0.1022\n",
            "Epoch 5/50 : Training loss: 2.3018 | Training accuracy: 0.1022\n",
            "Epoch 6/50 : Training loss: 2.3016 | Training accuracy: 0.1022\n",
            "Epoch 7/50 : Training loss: 2.3015 | Training accuracy: 0.1022\n",
            "Epoch 8/50 : Training loss: 2.3013 | Training accuracy: 0.1022\n",
            "Epoch 9/50 : Training loss: 2.3011 | Training accuracy: 0.1022\n",
            "Epoch 10/50 : Training loss: 2.3010 | Training accuracy: 0.1022\n",
            "Testing accuracy (Batch size=256, lr=0.1) =  10.100000000000001\n",
            "Loss tensor(92.0204, device='cuda:0', grad_fn=<AddBackward0>)\n",
            "Doing for learning_rate 0.2\n",
            "Epoch 1/50 : Training loss: 2.3007 | Training accuracy: 0.1022\n",
            "Epoch 2/50 : Training loss: 2.3007 | Training accuracy: 0.1022\n",
            "Epoch 3/50 : Training loss: 2.3005 | Training accuracy: 0.1022\n",
            "Epoch 4/50 : Training loss: 2.3004 | Training accuracy: 0.1022\n",
            "Epoch 5/50 : Training loss: 2.3001 | Training accuracy: 0.1022\n",
            "Epoch 6/50 : Training loss: 2.2999 | Training accuracy: 0.1022\n",
            "Epoch 7/50 : Training loss: 2.2995 | Training accuracy: 0.1022\n",
            "Epoch 8/50 : Training loss: 2.2992 | Training accuracy: 0.1022\n",
            "Epoch 9/50 : Training loss: 2.2988 | Training accuracy: 0.1022\n",
            "Epoch 10/50 : Training loss: 2.2983 | Training accuracy: 0.1026\n",
            "Testing accuracy (Batch size=256, lr=0.2) =  10.37\n",
            "Loss tensor(91.9064, device='cuda:0', grad_fn=<AddBackward0>)\n",
            "Doing for learning_rate 0.5\n",
            "Epoch 1/50 : Training loss: 2.2979 | Training accuracy: 0.1049\n",
            "Epoch 2/50 : Training loss: 2.2977 | Training accuracy: 0.1068\n",
            "Epoch 3/50 : Training loss: 2.2973 | Training accuracy: 0.1127\n",
            "Epoch 4/50 : Training loss: 2.2967 | Training accuracy: 0.1493\n",
            "Epoch 5/50 : Training loss: 2.2960 | Training accuracy: 0.2480\n",
            "Epoch 6/50 : Training loss: 2.2951 | Training accuracy: 0.2447\n",
            "Epoch 7/50 : Training loss: 2.2941 | Training accuracy: 0.2106\n",
            "Epoch 8/50 : Training loss: 2.2928 | Training accuracy: 0.1794\n",
            "Epoch 9/50 : Training loss: 2.2913 | Training accuracy: 0.1742\n",
            "Epoch 10/50 : Training loss: 2.2896 | Training accuracy: 0.1785\n",
            "Testing accuracy (Batch size=256, lr=0.5) =  18.33\n",
            "Loss tensor(91.5082, device='cuda:0', grad_fn=<AddBackward0>)\n"
          ],
          "name": "stdout"
        }
      ]
    },
    {
      "cell_type": "code",
      "metadata": {
        "colab": {
          "base_uri": "https://localhost:8080/",
          "height": 351
        },
        "id": "7ahU-GMGTecf",
        "outputId": "720428ad-cdcb-40d1-a0c8-41389720fc65"
      },
      "source": [
        "fig = plt.figure(figsize=[15,5])\r\n",
        "plt.subplot(121)\r\n",
        "plt.plot(lr_arr, testacc, 'r-', label='Test accuracy')\r\n",
        "\r\n",
        "plt.legend(loc='upper right')\r\n",
        "plt.xlabel('Learning Rate')\r\n",
        "plt.ylabel('Test Accuracy')"
      ],
      "execution_count": null,
      "outputs": [
        {
          "output_type": "execute_result",
          "data": {
            "text/plain": [
              "Text(0, 0.5, 'Test Accuracy')"
            ]
          },
          "metadata": {
            "tags": []
          },
          "execution_count": 18
        },
        {
          "output_type": "display_data",
          "data": {
            "image/png": "[encoded data removed]",
            "text/plain": [
              "<Figure size 1080x360 with 1 Axes>"
            ]
          },
          "metadata": {
            "tags": [],
            "needs_background": "light"
          }
        }
      ]
    },
    {
      "cell_type": "markdown",
      "metadata": {
        "id": "ijm77--NcnPP"
      },
      "source": [
        "Best Test Accuracy is at 0.5"
      ]
    },
    {
      "cell_type": "markdown",
      "metadata": {
        "id": "oDSnveqWYY_3"
      },
      "source": [
        "##Q3"
      ]
    },
    {
      "cell_type": "code",
      "metadata": {
        "colab": {
          "base_uri": "https://localhost:8080/"
        },
        "id": "Yvb-LP_WYapX",
        "outputId": "60326ab9-c9fd-40e8-fa8b-6d1f4812b788"
      },
      "source": [
        "criterion = nn.CrossEntropyLoss()\r\n",
        "use_gpu = torch.cuda.is_available()\r\n",
        "net4 = FFNN()\r\n",
        "\r\n",
        "if use_gpu:\r\n",
        "  print('GPU is available!')\r\n",
        "  net4 = net4.cuda()\r\n",
        "learning_rate1 = 0.3\r\n",
        "optimizer1 = optim.SGD(net4.parameters(), lr = learning_rate1, momentum=0.9)\r\n",
        "num_epochs = 50\r\n",
        "train_loss = []\r\n",
        "train_acc = []\r\n",
        "for epoch in range(num_epochs):\r\n",
        "  running_loss = 0.0\r\n",
        "  running_corr = 0\r\n",
        "  if  (epoch%5==0):\r\n",
        "    learning_rate1 += 0.005*(epoch/4)\r\n",
        "    optimizer1 = optim.SGD(net4.parameters(), lr = learning_rate1, momentum=0.9)\r\n",
        "    print(\"LEARNING RATE: \" + str(learning_rate1))\r\n",
        "  for i, data in enumerate(trainLoader):\r\n",
        "    inputs, labels = data\r\n",
        "    if use_gpu:\r\n",
        "      inputs, labels = inputs.cuda(), labels.cuda()\r\n",
        "      # Initializing model gradients to zero\r\n",
        "      optimizer1.zero_grad()\r\n",
        "      # Data feed-forward through the network\r\n",
        "      outputs1 = net4(inputs.view(inputs.shape[0], -1))\r\n",
        "      preds1 = torch.argmax(outputs1, dim=1)\r\n",
        "      # Finding the loss\r\n",
        "      loss = criterion(outputs1, labels)\r\n",
        "      # Accumulating the loss for each batch\r\n",
        "      running_loss+=loss\r\n",
        "      # Accumulating the number of correct predictions\r\n",
        "      running_corr += torch.sum(preds1 == labels)\r\n",
        "\r\n",
        "  totalLoss1 = running_loss/(i+1)\r\n",
        "  # Calculating gradients\r\n",
        "  totalLoss1.backward()\r\n",
        "  #Updating model parameters\r\n",
        "  optimizer1.step()\r\n",
        "\r\n",
        "  epoch_loss = running_loss.item()/(i+1) # Total loss for one epoch\r\n",
        "  epoch_acc = running_corr.item()/60000\r\n",
        "\r\n",
        "  train_loss.append(epoch_loss) # Saving the loss over epochs for plotting the graph\r\n",
        "  train_acc.append(epoch_acc)\r\n",
        "\r\n",
        "  print('Epoch {:.0f}/{:.0f} : Training loss: {:.4f} | Training accuracy: {:.4f}'.format(epoch+1, 50, epoch_loss, epoch_acc))"
      ],
      "execution_count": null,
      "outputs": [
        {
          "output_type": "stream",
          "text": [
            "GPU is available!\n",
            "LEARNING RATE: 0.3\n",
            "Epoch 1/50 : Training loss: 2.3030 | Training accuracy: 0.0808\n",
            "Epoch 2/50 : Training loss: 2.3029 | Training accuracy: 0.0858\n",
            "Epoch 3/50 : Training loss: 2.3027 | Training accuracy: 0.0931\n",
            "Epoch 4/50 : Training loss: 2.3025 | Training accuracy: 0.1013\n",
            "Epoch 5/50 : Training loss: 2.3021 | Training accuracy: 0.1065\n",
            "LEARNING RATE: 0.30624999999999997\n",
            "Epoch 6/50 : Training loss: 2.3017 | Training accuracy: 0.1056\n",
            "Epoch 7/50 : Training loss: 2.3016 | Training accuracy: 0.1051\n",
            "Epoch 8/50 : Training loss: 2.3014 | Training accuracy: 0.1043\n",
            "Epoch 9/50 : Training loss: 2.3012 | Training accuracy: 0.1033\n",
            "Epoch 10/50 : Training loss: 2.3008 | Training accuracy: 0.1028\n",
            "LEARNING RATE: 0.31875\n",
            "Epoch 11/50 : Training loss: 2.3004 | Training accuracy: 0.1024\n",
            "Epoch 12/50 : Training loss: 2.3003 | Training accuracy: 0.1023\n",
            "Epoch 13/50 : Training loss: 2.3001 | Training accuracy: 0.1027\n",
            "Epoch 14/50 : Training loss: 2.2998 | Training accuracy: 0.1427\n",
            "Epoch 15/50 : Training loss: 2.2994 | Training accuracy: 0.2056\n",
            "LEARNING RATE: 0.33749999999999997\n",
            "Epoch 16/50 : Training loss: 2.2989 | Training accuracy: 0.1777\n",
            "Epoch 17/50 : Training loss: 2.2988 | Training accuracy: 0.1632\n",
            "Epoch 18/50 : Training loss: 2.2985 | Training accuracy: 0.1392\n",
            "Epoch 19/50 : Training loss: 2.2981 | Training accuracy: 0.1194\n",
            "Epoch 20/50 : Training loss: 2.2977 | Training accuracy: 0.1130\n",
            "LEARNING RATE: 0.3625\n",
            "Epoch 21/50 : Training loss: 2.2971 | Training accuracy: 0.1124\n",
            "Epoch 22/50 : Training loss: 2.2970 | Training accuracy: 0.1124\n",
            "Epoch 23/50 : Training loss: 2.2967 | Training accuracy: 0.1124\n",
            "Epoch 24/50 : Training loss: 2.2962 | Training accuracy: 0.1124\n",
            "Epoch 25/50 : Training loss: 2.2957 | Training accuracy: 0.1124\n",
            "LEARNING RATE: 0.39375\n",
            "Epoch 26/50 : Training loss: 2.2950 | Training accuracy: 0.1124\n",
            "Epoch 27/50 : Training loss: 2.2948 | Training accuracy: 0.1124\n",
            "Epoch 28/50 : Training loss: 2.2944 | Training accuracy: 0.1124\n",
            "Epoch 29/50 : Training loss: 2.2939 | Training accuracy: 0.1124\n",
            "Epoch 30/50 : Training loss: 2.2931 | Training accuracy: 0.1124\n",
            "LEARNING RATE: 0.43124999999999997\n",
            "Epoch 31/50 : Training loss: 2.2922 | Training accuracy: 0.1124\n",
            "Epoch 32/50 : Training loss: 2.2920 | Training accuracy: 0.1124\n",
            "Epoch 33/50 : Training loss: 2.2914 | Training accuracy: 0.1124\n",
            "Epoch 34/50 : Training loss: 2.2907 | Training accuracy: 0.1124\n",
            "Epoch 35/50 : Training loss: 2.2896 | Training accuracy: 0.1124\n",
            "LEARNING RATE: 0.475\n",
            "Epoch 36/50 : Training loss: 2.2884 | Training accuracy: 0.1134\n",
            "Epoch 37/50 : Training loss: 2.2879 | Training accuracy: 0.1143\n",
            "Epoch 38/50 : Training loss: 2.2872 | Training accuracy: 0.1169\n",
            "Epoch 39/50 : Training loss: 2.2859 | Training accuracy: 0.1235\n",
            "Epoch 40/50 : Training loss: 2.2843 | Training accuracy: 0.1349\n",
            "LEARNING RATE: 0.525\n",
            "Epoch 41/50 : Training loss: 2.2822 | Training accuracy: 0.1516\n",
            "Epoch 42/50 : Training loss: 2.2815 | Training accuracy: 0.1576\n",
            "Epoch 43/50 : Training loss: 2.2801 | Training accuracy: 0.1684\n",
            "Epoch 44/50 : Training loss: 2.2780 | Training accuracy: 0.1811\n",
            "Epoch 45/50 : Training loss: 2.2750 | Training accuracy: 0.1925\n",
            "LEARNING RATE: 0.58125\n",
            "Epoch 46/50 : Training loss: 2.2712 | Training accuracy: 0.2007\n",
            "Epoch 47/50 : Training loss: 2.2699 | Training accuracy: 0.2024\n",
            "Epoch 48/50 : Training loss: 2.2673 | Training accuracy: 0.2046\n",
            "Epoch 49/50 : Training loss: 2.2634 | Training accuracy: 0.2068\n",
            "Epoch 50/50 : Training loss: 2.2581 | Training accuracy: 0.2084\n"
          ],
          "name": "stdout"
        }
      ]
    },
    {
      "cell_type": "code",
      "metadata": {
        "id": "Op_KUyrxZUk4",
        "colab": {
          "base_uri": "https://localhost:8080/",
          "height": 667
        },
        "outputId": "4d5a7528-435d-4589-ded3-6937fc3641c9"
      },
      "source": [
        "fig = plt.figure(figsize=[15,5])\r\n",
        "plt.subplot(121)\r\n",
        "plt.plot(range(num_epochs), train_loss, 'r-', label='Batch size=256')\r\n",
        "\r\n",
        "plt.legend(loc='upper right')\r\n",
        "plt.xlabel('Epoch')\r\n",
        "plt.ylabel('Training Loss/Error')\r\n",
        "\r\n",
        "fig = plt.figure(figsize=[15,5])\r\n",
        "plt.subplot(121)\r\n",
        "plt.plot(range(num_epochs), train_acc, 'r-', label='Batch size=256')\r\n",
        "\r\n",
        "plt.legend(loc='upper right')\r\n",
        "plt.xlabel('Epoch')\r\n",
        "plt.ylabel('Training Accuracy')"
      ],
      "execution_count": null,
      "outputs": [
        {
          "output_type": "execute_result",
          "data": {
            "text/plain": [
              "Text(0, 0.5, 'Training Accuracy')"
            ]
          },
          "metadata": {
            "tags": []
          },
          "execution_count": 21
        },
        {
          "output_type": "display_data",
          "data": {
            "image/png": "[encoded data removed]",
            "text/plain": [
              "<Figure size 1080x360 with 1 Axes>"
            ]
          },
          "metadata": {
            "tags": [],
            "needs_background": "light"
          }
        },
        {
          "output_type": "display_data",
          "data": {
            "image/png": "[encoded data removed]",
            "text/plain": [
              "<Figure size 1080x360 with 1 Axes>"
            ]
          },
          "metadata": {
            "tags": [],
            "needs_background": "light"
          }
        }
      ]
    },
    {
      "cell_type": "markdown",
      "metadata": {
        "id": "9a88JNLSeG0U"
      },
      "source": [
        "I have increased the learning rate from 0.3 to 0.58126 and have saw that the accuracy increased as learning rate increased from 0.5"
      ]
    }
  ]
}