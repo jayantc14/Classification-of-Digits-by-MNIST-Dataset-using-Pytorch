{
 "cells": [
  {
   "cell_type": "code",
   "execution_count": 1,
   "metadata": {
    "id": "oK1scYThmnu6"
   },
   "outputs": [],
   "source": [
    "%matplotlib inline\n",
    "import torch\n",
    "import torch.nn as nn\n",
    "import torch.nn.functional as F\n",
    "import numpy as np\n",
    "from torchvision import transforms, datasets\n",
    "import torch.optim as optim\n",
    "from torch.autograd import Variable\n",
    "import torchvision\n",
    "\n",
    "import matplotlib.pyplot as plt\n",
    "import time"
   ]
  },
  {
   "cell_type": "code",
   "execution_count": 2,
   "metadata": {
    "colab": {
     "base_uri": "https://localhost:8080/",
     "height": 366,
     "referenced_widgets": [
      "9029a67efef54eab9d8ca14bb8b43ded",
      "7c313f9661af4dcf95da4e3a61518098",
      "8b8f7d85b3864e4387d514d348152412",
      "1a933d4ca28649d89af607f8e469e780",
      "8c466a248833475687d0f28de0a35e32",
      "44e62184f8e64c4a8d84f93a41fc8317",
      "067aefe4195f422e91defae20766dd5a",
      "b5d0793feb374dc89e10c39a27ed6446",
      "a086587d4bdb4fcfad43e318834805f1",
      "52d621885b074c13a3006e31ac2bc375",
      "dd8a76d7b5fa4ab39431048f87057890",
      "8c2e8591c4e548bcb48af382289c39e3",
      "c55a06f1fd2e45a98eb9b617b6e3db6b",
      "36835d9e8fc3460f9e0e733962eb9690",
      "2f7e9f03935648c5a10f8dfcd2449a8b",
      "ec96631b87524d1791b4e76360dc9e23",
      "4ae669af75f448b58dccf6e66e07c0a0",
      "7cb96bfd14f647b3a86193794a91c76c",
      "82d24c8b36d448cd96871b8138292568",
      "63426bc36dbb407a90558867b41373fe",
      "a3c3c157fe654377be185ceb922c60b0",
      "a09b90c7dbdb41feb3c3814e2a9e53d8",
      "70e2235bf6ec44e2ad10ab4f657df121",
      "7a4faf6f8adb4b06831165ae63659d65",
      "b33e1b9cd9df49a6955ab2f0c098a0ab",
      "01b42af4068e4fe6b6ca0811af925cad",
      "688bf0d71b5648939b2f668c6fa342af",
      "4c6bfc9d21fd473bbf353f2f49986225",
      "c4926915bb564fa596da36bfb9c00c02",
      "5662066785af43d0a2d579976acf9bf3",
      "68bf7558d71d47ca9b057014cb2894a5",
      "a839a902e6174015b9c8d568c80b2349"
     ]
    },
    "id": "qvoi4DUEnn8w",
    "outputId": "656ffc36-6f74-48f8-dfb7-0862459e7511"
   },
   "outputs": [
    {
     "name": "stdout",
     "output_type": "stream",
     "text": [
      "Downloading http://yann.lecun.com/exdb/mnist/train-images-idx3-ubyte.gz to ./MNIST/MNIST/raw/train-images-idx3-ubyte.gz\n"
     ]
    },
    {
     "data": {
      "application/vnd.jupyter.widget-view+json": {
       "model_id": "9029a67efef54eab9d8ca14bb8b43ded",
       "version_major": 2,
       "version_minor": 0
      },
      "text/plain": [
       "HBox(children=(FloatProgress(value=1.0, bar_style='info', max=1.0), HTML(value='')))"
      ]
     },
     "metadata": {
      "tags": []
     },
     "output_type": "display_data"
    },
    {
     "name": "stdout",
     "output_type": "stream",
     "text": [
      "Extracting ./MNIST/MNIST/raw/train-images-idx3-ubyte.gz to ./MNIST/MNIST/raw\n",
      "Downloading http://yann.lecun.com/exdb/mnist/train-labels-idx1-ubyte.gz to ./MNIST/MNIST/raw/train-labels-idx1-ubyte.gz\n"
     ]
    },
    {
     "data": {
      "application/vnd.jupyter.widget-view+json": {
       "model_id": "a086587d4bdb4fcfad43e318834805f1",
       "version_major": 2,
       "version_minor": 0
      },
      "text/plain": [
       "HBox(children=(FloatProgress(value=1.0, bar_style='info', max=1.0), HTML(value='')))"
      ]
     },
     "metadata": {
      "tags": []
     },
     "output_type": "display_data"
    },
    {
     "name": "stdout",
     "output_type": "stream",
     "text": [
      "Extracting ./MNIST/MNIST/raw/train-labels-idx1-ubyte.gz to ./MNIST/MNIST/raw\n",
      "Downloading http://yann.lecun.com/exdb/mnist/t10k-images-idx3-ubyte.gz to ./MNIST/MNIST/raw/t10k-images-idx3-ubyte.gz\n"
     ]
    },
    {
     "data": {
      "application/vnd.jupyter.widget-view+json": {
       "model_id": "4ae669af75f448b58dccf6e66e07c0a0",
       "version_major": 2,
       "version_minor": 0
      },
      "text/plain": [
       "HBox(children=(FloatProgress(value=1.0, bar_style='info', max=1.0), HTML(value='')))"
      ]
     },
     "metadata": {
      "tags": []
     },
     "output_type": "display_data"
    },
    {
     "name": "stdout",
     "output_type": "stream",
     "text": [
      "Extracting ./MNIST/MNIST/raw/t10k-images-idx3-ubyte.gz to ./MNIST/MNIST/raw\n",
      "Downloading http://yann.lecun.com/exdb/mnist/t10k-labels-idx1-ubyte.gz to ./MNIST/MNIST/raw/t10k-labels-idx1-ubyte.gz\n"
     ]
    },
    {
     "data": {
      "application/vnd.jupyter.widget-view+json": {
       "model_id": "b33e1b9cd9df49a6955ab2f0c098a0ab",
       "version_major": 2,
       "version_minor": 0
      },
      "text/plain": [
       "HBox(children=(FloatProgress(value=1.0, bar_style='info', max=1.0), HTML(value='')))"
      ]
     },
     "metadata": {
      "tags": []
     },
     "output_type": "display_data"
    },
    {
     "name": "stdout",
     "output_type": "stream",
     "text": [
      "Extracting ./MNIST/MNIST/raw/t10k-labels-idx1-ubyte.gz to ./MNIST/MNIST/raw\n",
      "Processing...\n",
      "Done!\n"
     ]
    },
    {
     "name": "stderr",
     "output_type": "stream",
     "text": [
      "/usr/local/lib/python3.7/dist-packages/torchvision/datasets/mnist.py:480: UserWarning: The given NumPy array is not writeable, and PyTorch does not support non-writeable tensors. This means you can write to the underlying (supposedly non-writeable) NumPy array using the tensor. You may want to copy the array to protect its data or make it writeable before converting it to a tensor. This type of warning will be suppressed for the rest of this program. (Triggered internally at  /pytorch/torch/csrc/utils/tensor_numpy.cpp:141.)\n",
      "  return torch.from_numpy(parsed.astype(m[2], copy=False)).view(*s)\n"
     ]
    }
   ],
   "source": [
    "apply_transform = transforms.Compose([transforms.Resize(32), transforms.ToTensor()])\n",
    "BatchSize = 256\n",
    "BatchSize2 = 1024\n",
    "\n",
    "trainset = datasets.MNIST(root='./MNIST'\n",
    "                           ,train = True\n",
    "                          , download = True\n",
    "                         , transform = apply_transform)\n",
    "trainLoader = torch.utils.data.DataLoader(\n",
    "    trainset,\n",
    "    batch_size = BatchSize,\n",
    "    shuffle=True,\n",
    "    num_workers=4\n",
    ")\n",
    "\n",
    "testset = datasets.MNIST(root='./MNIST'\n",
    "                           ,train = False\n",
    "                          , download = True\n",
    "                         , transform = apply_transform)\n",
    "testLoader = torch.utils.data.DataLoader(\n",
    "    testset,\n",
    "    batch_size = BatchSize,\n",
    "    shuffle=True,\n",
    "    num_workers=4\n",
    ")\n",
    "\n",
    "trainset2 = datasets.MNIST(root='./MNIST'\n",
    "                           ,train = True\n",
    "                          , download = True\n",
    "                         , transform = apply_transform)\n",
    "trainLoader2 = torch.utils.data.DataLoader(\n",
    "    trainset2,\n",
    "    batch_size = BatchSize2,\n",
    "    shuffle=True,\n",
    "    num_workers=4\n",
    ")\n",
    "\n",
    "testset2 = datasets.MNIST(root='./MNIST'\n",
    "                           ,train = False\n",
    "                          , download = True\n",
    "                         , transform = apply_transform)\n",
    "testLoader2 = torch.utils.data.DataLoader(\n",
    "    testset2,\n",
    "    batch_size = BatchSize2,\n",
    "    shuffle=True,\n",
    "    num_workers=4\n",
    ")"
   ]
  },
  {
   "cell_type": "code",
   "execution_count": 3,
   "metadata": {
    "colab": {
     "base_uri": "https://localhost:8080/"
    },
    "id": "HfqiRxzZogvc",
    "outputId": "5e57557d-8c29-4e49-a107-73167c976675"
   },
   "outputs": [
    {
     "name": "stdout",
     "output_type": "stream",
     "text": [
      "No. of samples in train set:60000\n",
      "No. of samples in test set:10000\n",
      "No. of samples in train set:60000\n",
      "No. of samples in test set:10000\n"
     ]
    }
   ],
   "source": [
    "# Size of train and test datasets\n",
    "print('No. of samples in train set:' + str(len(trainLoader.dataset)))\n",
    "print('No. of samples in test set:' + str(len(testLoader.dataset)))\n",
    "\n",
    "# Size of train and test datasets\n",
    "print('No. of samples in train set:' + str(len(trainLoader2.dataset)))\n",
    "print('No. of samples in test set:' + str(len(testLoader2.dataset)))"
   ]
  },
  {
   "cell_type": "code",
   "execution_count": 4,
   "metadata": {
    "id": "M_Z4BXCYp79D"
   },
   "outputs": [],
   "source": [
    "class LeNet(nn.Module):\n",
    "  def __init__(self):\n",
    "    super(LeNet, self).__init__()\n",
    "    self.conv1 = nn.Conv2d(1,6, kernel_size=5)\n",
    "    self.pool1 = nn.MaxPool2d(kernel_size=2, stride=2)\n",
    "    self.conv2 = nn.Conv2d(6,16, kernel_size=5)\n",
    "    self.pool2 = nn.MaxPool2d(kernel_size=2, stride=2)\n",
    "    self.fc1 = nn.Linear(400, 120)\n",
    "    self.fc2 = nn.Linear(120, 84)\n",
    "    self.fc3 = nn.Linear(84, 10)\n",
    "\n",
    "  def forward(self, x):\n",
    "    x = F.relu(self.conv1(x))\n",
    "    x = self.pool1(x)\n",
    "    x = F.relu(self.conv2(x))\n",
    "    x = self.pool2(x)\n",
    "    x = x.view(-1, 400)\n",
    "    x = F.relu(self.fc1(x))\n",
    "    x = F.relu(self.fc2(x))\n",
    "    x = self.fc3(x)\n",
    "    return F.log_softmax(x, dim=1)"
   ]
  },
  {
   "cell_type": "code",
   "execution_count": 5,
   "metadata": {
    "colab": {
     "base_uri": "https://localhost:8080/"
    },
    "id": "bEtgzXZPrB4Z",
    "outputId": "842db35a-2327-4513-9abd-7b6fc58003e5"
   },
   "outputs": [
    {
     "name": "stdout",
     "output_type": "stream",
     "text": [
      "GPU is available!\n"
     ]
    }
   ],
   "source": [
    "use_gpu = torch.cuda.is_available()\n",
    "net1 = LeNet()\n",
    "net2 = LeNet()\n",
    "net3 = LeNet()\n",
    "net4 = LeNet()\n",
    "\n",
    "if use_gpu:\n",
    "  print('GPU is available!')\n",
    "  net1 = net1.cuda()\n",
    "  net2 = net2.cuda()\n",
    "  net3 = net3.cuda()\n",
    "  net4 = net4.cuda()"
   ]
  },
  {
   "cell_type": "markdown",
   "metadata": {
    "id": "7ySEcTtMQTLS"
   },
   "source": [
    "##Q1\n",
    "Using batchsize 256 and 1024"
   ]
  },
  {
   "cell_type": "code",
   "execution_count": 6,
   "metadata": {
    "colab": {
     "base_uri": "https://localhost:8080/"
    },
    "id": "u2odjBPlrVRL",
    "outputId": "2ac62eba-bb16-4532-9796-ec649be58329"
   },
   "outputs": [
    {
     "name": "stdout",
     "output_type": "stream",
     "text": [
      "Epoch 1/50 : Training loss: 2.3040 | Training accuracy: 0.1019\n",
      "Epoch 2/50 : Training loss: 2.3033 | Training accuracy: 0.1019\n",
      "Epoch 3/50 : Training loss: 2.3022 | Training accuracy: 0.1019\n",
      "Epoch 4/50 : Training loss: 2.3006 | Training accuracy: 0.1018\n",
      "Epoch 5/50 : Training loss: 2.2985 | Training accuracy: 0.1014\n",
      "Epoch 6/50 : Training loss: 2.2962 | Training accuracy: 0.1025\n",
      "Epoch 7/50 : Training loss: 2.2938 | Training accuracy: 0.1245\n",
      "Epoch 8/50 : Training loss: 2.2910 | Training accuracy: 0.1910\n",
      "Epoch 9/50 : Training loss: 2.2880 | Training accuracy: 0.2285\n",
      "Epoch 10/50 : Training loss: 2.2842 | Training accuracy: 0.2575\n",
      "Epoch 11/50 : Training loss: 2.2795 | Training accuracy: 0.3010\n",
      "Epoch 12/50 : Training loss: 2.2736 | Training accuracy: 0.3609\n",
      "Epoch 13/50 : Training loss: 2.2658 | Training accuracy: 0.4158\n",
      "Epoch 14/50 : Training loss: 2.2552 | Training accuracy: 0.4627\n",
      "Epoch 15/50 : Training loss: 2.2410 | Training accuracy: 0.4678\n",
      "Epoch 16/50 : Training loss: 2.2210 | Training accuracy: 0.4422\n",
      "Epoch 17/50 : Training loss: 2.1916 | Training accuracy: 0.4187\n",
      "Epoch 18/50 : Training loss: 2.1474 | Training accuracy: 0.4162\n",
      "Epoch 19/50 : Training loss: 2.0785 | Training accuracy: 0.4538\n",
      "Epoch 20/50 : Training loss: 1.9677 | Training accuracy: 0.5114\n",
      "Epoch 21/50 : Training loss: 1.7899 | Training accuracy: 0.5734\n",
      "Epoch 22/50 : Training loss: 1.5350 | Training accuracy: 0.5923\n",
      "Epoch 23/50 : Training loss: 1.2372 | Training accuracy: 0.6585\n",
      "Epoch 24/50 : Training loss: 1.6117 | Training accuracy: 0.4754\n",
      "Epoch 25/50 : Training loss: 19.4898 | Training accuracy: 0.0987\n"
     ]
    }
   ],
   "source": [
    "criterion = nn.CrossEntropyLoss()\n",
    "learning_rate1 = 0.1\n",
    "optimizer1 = optim.SGD(net1.parameters(), lr = learning_rate1, momentum=0.9)\n",
    "num_epochs = 25\n",
    "\n",
    "train_loss = []\n",
    "train_acc = []\n",
    "for epoch in range(num_epochs):\n",
    "  running_loss = 0.0\n",
    "  running_corr = 0\n",
    "  for i, data in enumerate(trainLoader):\n",
    "    inputs, labels = data\n",
    "    if use_gpu:\n",
    "      inputs, labels = inputs.cuda(), labels.cuda()\n",
    "      # Initializing model gradients to zero\n",
    "      optimizer1.zero_grad()\n",
    "      # Data feed-forward through the network\n",
    "      outputs1 = net1(inputs)\n",
    "      preds1 = torch.argmax(outputs1, dim=1)\n",
    "      # Finding the loss\n",
    "      loss = criterion(outputs1, labels)\n",
    "      # Accumulating the loss for each batch\n",
    "      running_loss+=loss\n",
    "      # Accumulating the number of correct predictions\n",
    "      running_corr += torch.sum(preds1 == labels)\n",
    "\n",
    "  totalLoss1 = running_loss/(i+1)\n",
    "  # Calculating gradients\n",
    "  totalLoss1.backward()\n",
    "  #Updating model parameters\n",
    "  optimizer1.step()\n",
    "\n",
    "  epoch_loss = running_loss.item()/(i+1) # Total loss for one epoch\n",
    "  epoch_acc = running_corr.item()/60000\n",
    "\n",
    "  train_loss.append(epoch_loss) # Saving the loss over epochs for plotting the graph\n",
    "  train_acc.append(epoch_acc)\n",
    "\n",
    "  print('Epoch {:.0f}/{:.0f} : Training loss: {:.4f} | Training accuracy: {:.4f}'.format(epoch+1, 50, epoch_loss, epoch_acc))"
   ]
  },
  {
   "cell_type": "code",
   "execution_count": 7,
   "metadata": {
    "colab": {
     "base_uri": "https://localhost:8080/"
    },
    "id": "PwNjhEJ2BLax",
    "outputId": "66173263-3801-4904-ee67-49e21f644402"
   },
   "outputs": [
    {
     "name": "stdout",
     "output_type": "stream",
     "text": [
      "Testing accuracy (Batch size=256, lr=0.1) =  23.44\n",
      "Loss tensor(2.3214, device='cuda:0', grad_fn=<NllLossBackward>)\n"
     ]
    }
   ],
   "source": [
    "correct_pred1 = 0\n",
    "loss_pred1 = 0\n",
    "for data in testLoader:\n",
    "  inputs, labels = data\n",
    "  if use_gpu:\n",
    "    inputs, labels = inputs.cuda(), labels.cuda()\n",
    "  output1 = net1(inputs)\n",
    "  preds1 = torch.argmax(output1, dim=1)\n",
    "  correct_pred1 += torch.sum(preds1 == labels)\n",
    "  loss_pred1 = criterion(output1, labels)\n",
    "\n",
    "test_accuracy = correct_pred1.item()/10000.0\n",
    "\n",
    "print('Testing accuracy (Batch size=256, lr=0.1) = ', test_accuracy* 100)\n",
    "print('Loss ' + str(loss_pred1))"
   ]
  },
  {
   "cell_type": "code",
   "execution_count": 8,
   "metadata": {
    "colab": {
     "base_uri": "https://localhost:8080/"
    },
    "id": "pmMqsqjttqxR",
    "outputId": "ed418cd1-3527-46fd-fd10-8893efb64357"
   },
   "outputs": [
    {
     "name": "stdout",
     "output_type": "stream",
     "text": [
      "Epoch 1/50 : Training loss: 2.3046 | Training accuracy: 0.1085\n",
      "Epoch 2/50 : Training loss: 2.3044 | Training accuracy: 0.1122\n",
      "Epoch 3/50 : Training loss: 2.3041 | Training accuracy: 0.1107\n",
      "Epoch 4/50 : Training loss: 2.3036 | Training accuracy: 0.0982\n",
      "Epoch 5/50 : Training loss: 2.3031 | Training accuracy: 0.0957\n",
      "Epoch 6/50 : Training loss: 2.3025 | Training accuracy: 0.0987\n",
      "Epoch 7/50 : Training loss: 2.3019 | Training accuracy: 0.1013\n",
      "Epoch 8/50 : Training loss: 2.3012 | Training accuracy: 0.1316\n",
      "Epoch 9/50 : Training loss: 2.3006 | Training accuracy: 0.1124\n",
      "Epoch 10/50 : Training loss: 2.3000 | Training accuracy: 0.1124\n",
      "Epoch 11/50 : Training loss: 2.2993 | Training accuracy: 0.1124\n",
      "Epoch 12/50 : Training loss: 2.2986 | Training accuracy: 0.1124\n",
      "Epoch 13/50 : Training loss: 2.2980 | Training accuracy: 0.1124\n",
      "Epoch 14/50 : Training loss: 2.2974 | Training accuracy: 0.1124\n",
      "Epoch 15/50 : Training loss: 2.2967 | Training accuracy: 0.1124\n",
      "Epoch 16/50 : Training loss: 2.2961 | Training accuracy: 0.1124\n",
      "Epoch 17/50 : Training loss: 2.2953 | Training accuracy: 0.1124\n",
      "Epoch 18/50 : Training loss: 2.2945 | Training accuracy: 0.1124\n",
      "Epoch 19/50 : Training loss: 2.2936 | Training accuracy: 0.1124\n",
      "Epoch 20/50 : Training loss: 2.2925 | Training accuracy: 0.1124\n",
      "Epoch 21/50 : Training loss: 2.2912 | Training accuracy: 0.1132\n",
      "Epoch 22/50 : Training loss: 2.2896 | Training accuracy: 0.1292\n",
      "Epoch 23/50 : Training loss: 2.2878 | Training accuracy: 0.1605\n",
      "Epoch 24/50 : Training loss: 2.2856 | Training accuracy: 0.1870\n",
      "Epoch 25/50 : Training loss: 2.2830 | Training accuracy: 0.2057\n"
     ]
    }
   ],
   "source": [
    "criterion = nn.CrossEntropyLoss()\n",
    "learning_rate2 = 0.1\n",
    "optimizer2 = optim.SGD(net2.parameters(), lr = learning_rate2, momentum=0.9)\n",
    "num_epoch2 = 25\n",
    "\n",
    "train_loss2 = []\n",
    "train_acc2 = []\n",
    "for epoch in range(num_epoch2):\n",
    "  running_loss = 0.0\n",
    "  running_corr = 0\n",
    "\n",
    "  for i, data in enumerate(trainLoader2):\n",
    "    inputs, labels = data\n",
    "    if use_gpu:\n",
    "      inputs, labels = inputs.cuda(), labels.cuda()\n",
    "      # Initializing model gradients to zero\n",
    "      optimizer2.zero_grad()\n",
    "      # Data feed-forward through the network\n",
    "      outputs2 = net2(inputs) \n",
    "      preds2 = torch.argmax(outputs2, dim=1)\n",
    "      # Finding the loss\n",
    "      loss = criterion(outputs2, labels)\n",
    "      # Accumulating the loss for each batch\n",
    "      running_loss+=loss\n",
    "      # Accumulating the number of correct predictions\n",
    "      running_corr += torch.sum(preds2 == labels)\n",
    "  \n",
    "  \n",
    "  totalLoss2 = running_loss/(i+1)\n",
    "  # Calculating gradients\n",
    "  totalLoss2.backward()\n",
    "  #Updating model parameters\n",
    "  optimizer2.step()\n",
    "\n",
    "  epoch_loss = running_loss.item()/(i+1) # Total loss for one epoch\n",
    "  epoch_acc = running_corr.item()/60000\n",
    "\n",
    "  train_loss2.append(epoch_loss) # Saving the loss over epochs for plotting the graph\n",
    "  train_acc2.append(epoch_acc)\n",
    "\n",
    "  print('Epoch {:.0f}/{:.0f} : Training loss: {:.4f} | Training accuracy: {:.4f}'.format(epoch+1, 50, epoch_loss, epoch_acc))"
   ]
  },
  {
   "cell_type": "code",
   "execution_count": 10,
   "metadata": {
    "colab": {
     "base_uri": "https://localhost:8080/"
    },
    "id": "q56qmorXBtNy",
    "outputId": "30fe0687-d1f9-432e-8473-88d4a23ace9c"
   },
   "outputs": [
    {
     "name": "stdout",
     "output_type": "stream",
     "text": [
      "Testing accuracy (Batch size=1024, lr=0.1) =  21.91\n",
      "Loss tensor(22.7955, device='cuda:0', grad_fn=<AddBackward0>)\n"
     ]
    }
   ],
   "source": [
    "correct_pred2 = 0\n",
    "loss_pred2 = 0\n",
    "for data in testLoader2:\n",
    "  input, labels = data\n",
    "  if use_gpu:\n",
    "    inputs, labels = input.cuda(), labels.cuda()\n",
    "  output = net2(inputs)\n",
    "  preds2 = torch.argmax(output, dim=1)\n",
    "  correct_pred2 += torch.sum(preds2 == labels)\n",
    "  loss_pred2 += criterion(output, labels)\n",
    "\n",
    "test_accuracy2 = correct_pred2.item()/10000.0\n",
    "print('Testing accuracy (Batch size=1024, lr=0.1) = ', test_accuracy2* 100)\n",
    "print('Loss ' + str(loss_pred2))"
   ]
  },
  {
   "cell_type": "code",
   "execution_count": 11,
   "metadata": {
    "colab": {
     "base_uri": "https://localhost:8080/",
     "height": 668
    },
    "id": "KxNQ8DFAyEA0",
    "outputId": "81e69653-0e3e-432e-dcc2-36979c32533e"
   },
   "outputs": [
    {
     "data": {
      "text/plain": [
       "Text(0, 0.5, 'Training Accuracy')"
      ]
     },
     "execution_count": 11,
     "metadata": {
      "tags": []
     },
     "output_type": "execute_result"
    },
    {
     "data": {
      "image/png": "[encoded data removed]",
      "text/plain": [
       "<Figure size 1080x360 with 1 Axes>"
      ]
     },
     "metadata": {
      "needs_background": "light",
      "tags": []
     },
     "output_type": "display_data"
    },
    {
     "data": {
      "image/png": "[encoded data removed]",
      "text/plain": [
       "<Figure size 1080x360 with 1 Axes>"
      ]
     },
     "metadata": {
      "needs_background": "light",
      "tags": []
     },
     "output_type": "display_data"
    }
   ],
   "source": [
    "fig = plt.figure(figsize=[15,5])\n",
    "plt.subplot(121)\n",
    "plt.plot(range(num_epochs), train_loss, 'r-', label='Batch size=256')\n",
    "plt.plot(range(num_epoch2), train_loss2, 'r-', color='blue', label='Batch size=1024')\n",
    "\n",
    "plt.legend(loc='upper right')\n",
    "plt.xlabel('Epoch')\n",
    "plt.ylabel('Training Loss/Error')\n",
    "\n",
    "fig = plt.figure(figsize=[15,5])\n",
    "plt.subplot(121)\n",
    "plt.plot(range(num_epochs), train_acc, 'r-', label='Batch size=256')\n",
    "plt.plot(range(num_epoch2), train_acc2, 'r-', color='blue', label='Batch size=1024')\n",
    "\n",
    "plt.legend(loc='upper right')\n",
    "plt.xlabel('Epoch')\n",
    "plt.ylabel('Training Accuracy')"
   ]
  },
  {
   "cell_type": "markdown",
   "metadata": {
    "id": "XHBlj_dRQOYD"
   },
   "source": [
    "##Q2\n",
    "lr -> 0.025, 0.05, 0.1, 0.2, 0.5"
   ]
  },
  {
   "cell_type": "code",
   "execution_count": 12,
   "metadata": {
    "id": "kt6XUe2CQQRn"
   },
   "outputs": [],
   "source": [
    "lr_arr = [0.025, 0.05, 0.1, 0.2, 0.5]"
   ]
  },
  {
   "cell_type": "code",
   "execution_count": 14,
   "metadata": {
    "colab": {
     "base_uri": "https://localhost:8080/"
    },
    "id": "P4rdkTP6Qew5",
    "outputId": "dfb32491-1e21-404c-aaa0-6cd4e85bfe26"
   },
   "outputs": [
    {
     "name": "stdout",
     "output_type": "stream",
     "text": [
      "Doing for learning_rate 0.025\n",
      "Epoch 1/50 : Training loss: 2.3060 | Training accuracy: 0.0903\n",
      "Epoch 2/50 : Training loss: 2.3059 | Training accuracy: 0.0903\n",
      "Epoch 3/50 : Training loss: 2.3058 | Training accuracy: 0.0903\n",
      "Epoch 4/50 : Training loss: 2.3056 | Training accuracy: 0.0903\n",
      "Epoch 5/50 : Training loss: 2.3054 | Training accuracy: 0.0903\n",
      "Epoch 6/50 : Training loss: 2.3051 | Training accuracy: 0.0903\n",
      "Epoch 7/50 : Training loss: 2.3048 | Training accuracy: 0.0903\n",
      "Epoch 8/50 : Training loss: 2.3045 | Training accuracy: 0.0904\n",
      "Epoch 9/50 : Training loss: 2.3041 | Training accuracy: 0.0903\n",
      "Epoch 10/50 : Training loss: 2.3038 | Training accuracy: 0.0898\n",
      "Testing accuracy (Batch size=256, lr=0.025) =  8.780000000000001\n",
      "Loss tensor(92.1379, device='cuda:0', grad_fn=<AddBackward0>)\n",
      "Doing for learning_rate 0.05\n",
      "Epoch 1/50 : Training loss: 2.3034 | Training accuracy: 0.0884\n",
      "Epoch 2/50 : Training loss: 2.3033 | Training accuracy: 0.0876\n",
      "Epoch 3/50 : Training loss: 2.3031 | Training accuracy: 0.0868\n",
      "Epoch 4/50 : Training loss: 2.3029 | Training accuracy: 0.0852\n",
      "Epoch 5/50 : Training loss: 2.3025 | Training accuracy: 0.0842\n",
      "Epoch 6/50 : Training loss: 2.3021 | Training accuracy: 0.0867\n",
      "Epoch 7/50 : Training loss: 2.3016 | Training accuracy: 0.0915\n",
      "Epoch 8/50 : Training loss: 2.3011 | Training accuracy: 0.0983\n",
      "Epoch 9/50 : Training loss: 2.3006 | Training accuracy: 0.1012\n",
      "Epoch 10/50 : Training loss: 2.3001 | Training accuracy: 0.1024\n",
      "Testing accuracy (Batch size=256, lr=0.05) =  10.13\n",
      "Loss tensor(92.0046, device='cuda:0', grad_fn=<AddBackward0>)\n",
      "Doing for learning_rate 0.1\n",
      "Epoch 1/50 : Training loss: 2.2995 | Training accuracy: 0.1023\n",
      "Epoch 2/50 : Training loss: 2.2993 | Training accuracy: 0.1022\n",
      "Epoch 3/50 : Training loss: 2.2989 | Training accuracy: 0.1019\n",
      "Epoch 4/50 : Training loss: 2.2983 | Training accuracy: 0.1018\n",
      "Epoch 5/50 : Training loss: 2.2976 | Training accuracy: 0.1450\n",
      "Epoch 6/50 : Training loss: 2.2967 | Training accuracy: 0.1843\n",
      "Epoch 7/50 : Training loss: 2.2955 | Training accuracy: 0.1592\n",
      "Epoch 8/50 : Training loss: 2.2942 | Training accuracy: 0.1368\n",
      "Epoch 9/50 : Training loss: 2.2925 | Training accuracy: 0.1264\n",
      "Epoch 10/50 : Training loss: 2.2905 | Training accuracy: 0.1239\n",
      "Testing accuracy (Batch size=256, lr=0.1) =  13.01\n",
      "Loss tensor(91.5128, device='cuda:0', grad_fn=<AddBackward0>)\n",
      "Doing for learning_rate 0.2\n",
      "Epoch 1/50 : Training loss: 2.2880 | Training accuracy: 0.1263\n",
      "Epoch 2/50 : Training loss: 2.2868 | Training accuracy: 0.1303\n",
      "Epoch 3/50 : Training loss: 2.2840 | Training accuracy: 0.1429\n",
      "Epoch 4/50 : Training loss: 2.2791 | Training accuracy: 0.2109\n",
      "Epoch 5/50 : Training loss: 2.2711 | Training accuracy: 0.3442\n",
      "Epoch 6/50 : Training loss: 2.2572 | Training accuracy: 0.4236\n",
      "Epoch 7/50 : Training loss: 2.2329 | Training accuracy: 0.4583\n",
      "Epoch 8/50 : Training loss: 2.1875 | Training accuracy: 0.4706\n",
      "Epoch 9/50 : Training loss: 2.0983 | Training accuracy: 0.4360\n",
      "Epoch 10/50 : Training loss: 1.9161 | Training accuracy: 0.4805\n",
      "Testing accuracy (Batch size=256, lr=0.2) =  58.98\n",
      "Loss tensor(63.4232, device='cuda:0', grad_fn=<AddBackward0>)\n",
      "Doing for learning_rate 0.5\n",
      "Epoch 1/50 : Training loss: 1.5971 | Training accuracy: 0.5729\n",
      "Epoch 2/50 : Training loss: 27.3969 | Training accuracy: 0.0987\n",
      "Epoch 3/50 : Training loss: 2.4537 | Training accuracy: 0.1044\n",
      "Epoch 4/50 : Training loss: 2.9995 | Training accuracy: 0.1044\n",
      "Epoch 5/50 : Training loss: 2.3585 | Training accuracy: 0.1124\n",
      "Epoch 6/50 : Training loss: 2.3738 | Training accuracy: 0.1124\n",
      "Epoch 7/50 : Training loss: 2.3843 | Training accuracy: 0.1124\n",
      "Epoch 8/50 : Training loss: 2.3883 | Training accuracy: 0.1124\n",
      "Epoch 9/50 : Training loss: 2.3909 | Training accuracy: 0.1124\n",
      "Epoch 10/50 : Training loss: 2.3905 | Training accuracy: 0.1124\n",
      "Testing accuracy (Batch size=256, lr=0.5) =  11.35\n",
      "Loss tensor(95.4182, device='cuda:0', grad_fn=<AddBackward0>)\n"
     ]
    }
   ],
   "source": [
    "use_gpu = torch.cuda.is_available()\n",
    "net3 = LeNet()\n",
    "testacc = []\n",
    "for learning_rate1 in lr_arr:\n",
    "  print(\"Doing for learning_rate \" + str(learning_rate1) )\n",
    "  if use_gpu:\n",
    "    net3 = net3.cuda()\n",
    "  criterion = nn.CrossEntropyLoss()\n",
    "  # learning_rate1 = 0.1\n",
    "  optimizer3 = optim.SGD(net3.parameters(), lr = learning_rate1, momentum=0.9)\n",
    "  num_epochs = 10\n",
    "\n",
    "  train_loss = []\n",
    "  train_acc = []\n",
    "  for epoch in range(num_epochs):\n",
    "    running_loss = 0.0\n",
    "    running_corr = 0\n",
    "    for i, data in enumerate(trainLoader):\n",
    "      inputs, labels = data\n",
    "      if use_gpu:\n",
    "        inputs, labels = inputs.cuda(), labels.cuda()\n",
    "        # Initializing model gradients to zero\n",
    "        optimizer3.zero_grad()\n",
    "        # Data feed-forward through the network\n",
    "        outputs3 = net3(inputs)\n",
    "        preds3 = torch.argmax(outputs3, dim=1)\n",
    "        # Finding the loss\n",
    "        loss = criterion(outputs3, labels)\n",
    "        # Accumulating the loss for each batch\n",
    "        running_loss+=loss\n",
    "        # Accumulating the number of correct predictions\n",
    "        running_corr += torch.sum(preds3 == labels)\n",
    "\n",
    "    totalLoss3 = running_loss/(i+1)\n",
    "    # Calculating gradients\n",
    "    totalLoss3.backward()\n",
    "    #Updating model parameters\n",
    "    optimizer3.step()\n",
    "\n",
    "    epoch_loss = running_loss.item()/(i+1) # Total loss for one epoch\n",
    "    epoch_acc = running_corr.item()/60000\n",
    "\n",
    "    train_loss.append(epoch_loss) # Saving the loss over epochs for plotting the graph\n",
    "    train_acc.append(epoch_acc)\n",
    "\n",
    "    print('Epoch {:.0f}/{:.0f} : Training loss: {:.4f} | Training accuracy: {:.4f}'.format(epoch+1, 50, epoch_loss, epoch_acc))\n",
    "\n",
    "\n",
    "  correct_pred2 = 0\n",
    "  loss_pred2 = 0\n",
    "  for data in testLoader:\n",
    "    input, labels = data\n",
    "    if use_gpu:\n",
    "      inputs, labels = input.cuda(), labels.cuda()\n",
    "    output = net3(inputs)\n",
    "    preds2 = torch.argmax(output, dim=1)\n",
    "    loss = criterion(output, labels)\n",
    "    loss_pred2 += loss\n",
    "    correct_pred2 += torch.sum(preds2 == labels)\n",
    "\n",
    "  test_accuracy2 = correct_pred2.item()/10000.0\n",
    "  testacc.append(test_accuracy2)\n",
    "  print('Testing accuracy (Batch size=256, lr=' + str(learning_rate1) + ') = ', test_accuracy2* 100)\n",
    "  print('Loss ' + str(loss_pred2))"
   ]
  },
  {
   "cell_type": "code",
   "execution_count": 15,
   "metadata": {
    "colab": {
     "base_uri": "https://localhost:8080/",
     "height": 351
    },
    "id": "7ahU-GMGTecf",
    "outputId": "223a867d-fb8e-4932-aa15-d56d460ea2ce"
   },
   "outputs": [
    {
     "data": {
      "text/plain": [
       "Text(0, 0.5, 'Test Accuracy')"
      ]
     },
     "execution_count": 15,
     "metadata": {
      "tags": []
     },
     "output_type": "execute_result"
    },
    {
     "data": {
      "image/png": "[encoded data removed]",
      "text/plain": [
       "<Figure size 1080x360 with 1 Axes>"
      ]
     },
     "metadata": {
      "needs_background": "light",
      "tags": []
     },
     "output_type": "display_data"
    }
   ],
   "source": [
    "fig = plt.figure(figsize=[15,5])\n",
    "plt.subplot(121)\n",
    "plt.plot(lr_arr, testacc, 'r-', label='Test accuracy')\n",
    "\n",
    "plt.legend(loc='upper right')\n",
    "plt.xlabel('Learning Rate')\n",
    "plt.ylabel('Test Accuracy')"
   ]
  },
  {
   "cell_type": "markdown",
   "metadata": {},
   "source": [
    "#6.b) I would choose learning rate as 0.2 since it has most test accuracy"
   ]
  },
  {
   "cell_type": "markdown",
   "metadata": {
    "id": "oDSnveqWYY_3"
   },
   "source": [
    "##Q3"
   ]
  },
  {
   "cell_type": "code",
   "execution_count": 16,
   "metadata": {
    "colab": {
     "base_uri": "https://localhost:8080/"
    },
    "id": "Yvb-LP_WYapX",
    "outputId": "38d38457-ee4a-41da-f266-7f3f65cc3903"
   },
   "outputs": [
    {
     "name": "stdout",
     "output_type": "stream",
     "text": [
      "LEARNING RATE: 0.3\n",
      "Epoch 1/50 : Training loss: 2.3048 | Training accuracy: 0.0972\n",
      "Epoch 2/50 : Training loss: 2.3033 | Training accuracy: 0.0953\n",
      "Epoch 3/50 : Training loss: 2.3008 | Training accuracy: 0.0807\n",
      "Epoch 4/50 : Training loss: 2.2980 | Training accuracy: 0.1003\n",
      "Epoch 5/50 : Training loss: 2.2948 | Training accuracy: 0.0993\n",
      "LEARNING RATE: 0.29375\n",
      "Epoch 6/50 : Training loss: 2.2907 | Training accuracy: 0.1153\n",
      "Epoch 7/50 : Training loss: 2.2888 | Training accuracy: 0.1306\n",
      "Epoch 8/50 : Training loss: 2.2851 | Training accuracy: 0.1741\n",
      "Epoch 9/50 : Training loss: 2.2788 | Training accuracy: 0.2196\n",
      "Epoch 10/50 : Training loss: 2.2683 | Training accuracy: 0.2487\n",
      "LEARNING RATE: 0.28125\n",
      "Epoch 11/50 : Training loss: 2.2490 | Training accuracy: 0.2990\n",
      "Epoch 12/50 : Training loss: 2.2365 | Training accuracy: 0.3443\n",
      "Epoch 13/50 : Training loss: 2.2078 | Training accuracy: 0.3357\n",
      "Epoch 14/50 : Training loss: 2.1451 | Training accuracy: 0.3415\n",
      "Epoch 15/50 : Training loss: 2.0005 | Training accuracy: 0.4225\n",
      "LEARNING RATE: 0.2625\n",
      "Epoch 16/50 : Training loss: 1.6866 | Training accuracy: 0.4857\n",
      "Epoch 17/50 : Training loss: 3.2118 | Training accuracy: 0.1159\n",
      "Epoch 18/50 : Training loss: 2.8766 | Training accuracy: 0.1124\n",
      "Epoch 19/50 : Training loss: 2.3258 | Training accuracy: 0.1044\n",
      "Epoch 20/50 : Training loss: 2.3293 | Training accuracy: 0.1044\n",
      "LEARNING RATE: 0.23750000000000002\n",
      "Epoch 21/50 : Training loss: 2.3243 | Training accuracy: 0.1044\n",
      "Epoch 22/50 : Training loss: 2.3192 | Training accuracy: 0.1044\n",
      "Epoch 23/50 : Training loss: 2.3151 | Training accuracy: 0.1044\n",
      "Epoch 24/50 : Training loss: 2.3110 | Training accuracy: 0.1044\n",
      "Epoch 25/50 : Training loss: 2.3073 | Training accuracy: 0.1044\n",
      "LEARNING RATE: 0.20625000000000002\n",
      "Epoch 26/50 : Training loss: 2.3040 | Training accuracy: 0.1044\n",
      "Epoch 27/50 : Training loss: 2.3035 | Training accuracy: 0.1044\n",
      "Epoch 28/50 : Training loss: 2.3029 | Training accuracy: 0.1044\n",
      "Epoch 29/50 : Training loss: 2.3018 | Training accuracy: 0.1669\n",
      "Epoch 30/50 : Training loss: 2.3004 | Training accuracy: 0.1956\n",
      "LEARNING RATE: 0.16875\n",
      "Epoch 31/50 : Training loss: 2.2988 | Training accuracy: 0.1924\n",
      "Epoch 32/50 : Training loss: 2.2983 | Training accuracy: 0.1897\n",
      "Epoch 33/50 : Training loss: 2.2973 | Training accuracy: 0.1860\n",
      "Epoch 34/50 : Training loss: 2.2956 | Training accuracy: 0.1881\n",
      "Epoch 35/50 : Training loss: 2.2931 | Training accuracy: 0.1976\n",
      "LEARNING RATE: 0.125\n",
      "Epoch 36/50 : Training loss: 2.2898 | Training accuracy: 0.1975\n",
      "Epoch 37/50 : Training loss: 2.2888 | Training accuracy: 0.1987\n",
      "Epoch 38/50 : Training loss: 2.2867 | Training accuracy: 0.1999\n",
      "Epoch 39/50 : Training loss: 2.2833 | Training accuracy: 0.2005\n",
      "Epoch 40/50 : Training loss: 2.2782 | Training accuracy: 0.2010\n",
      "LEARNING RATE: 0.075\n",
      "Epoch 41/50 : Training loss: 2.2700 | Training accuracy: 0.2487\n",
      "Epoch 42/50 : Training loss: 2.2672 | Training accuracy: 0.2616\n",
      "Epoch 43/50 : Training loss: 2.2632 | Training accuracy: 0.2786\n",
      "Epoch 44/50 : Training loss: 2.2576 | Training accuracy: 0.2903\n",
      "Epoch 45/50 : Training loss: 2.2488 | Training accuracy: 0.3011\n",
      "LEARNING RATE: 0.018749999999999996\n",
      "Epoch 46/50 : Training loss: 2.2363 | Training accuracy: 0.3109\n",
      "Epoch 47/50 : Training loss: 2.2353 | Training accuracy: 0.3129\n",
      "Epoch 48/50 : Training loss: 2.2334 | Training accuracy: 0.3158\n",
      "Epoch 49/50 : Training loss: 2.2306 | Training accuracy: 0.3195\n",
      "Epoch 50/50 : Training loss: 2.2271 | Training accuracy: 0.3226\n"
     ]
    }
   ],
   "source": [
    "criterion = nn.CrossEntropyLoss()\n",
    "learning_rate1 = 0.3\n",
    "optimizer1 = optim.SGD(net4.parameters(), lr = learning_rate1, momentum=0.9)\n",
    "num_epochs = 50\n",
    "\n",
    "train_loss = []\n",
    "train_acc = []\n",
    "for epoch in range(num_epochs):\n",
    "  running_loss = 0.0\n",
    "  running_corr = 0\n",
    "  if  (epoch%5==0):\n",
    "    learning_rate1 -= 0.005*(epoch/4)\n",
    "    optimizer1 = optim.SGD(net4.parameters(), lr = learning_rate1, momentum=0.9)\n",
    "    print(\"LEARNING RATE: \" + str(learning_rate1))\n",
    "  for i, data in enumerate(trainLoader):\n",
    "    inputs, labels = data\n",
    "    if use_gpu:\n",
    "      inputs, labels = inputs.cuda(), labels.cuda()\n",
    "      # Initializing model gradients to zero\n",
    "      optimizer1.zero_grad()\n",
    "      # Data feed-forward through the network\n",
    "      outputs1 = net4(inputs)\n",
    "      preds1 = torch.argmax(outputs1, dim=1)\n",
    "      # Finding the loss\n",
    "      loss = criterion(outputs1, labels)\n",
    "      # Accumulating the loss for each batch\n",
    "      running_loss+=loss\n",
    "      # Accumulating the number of correct predictions\n",
    "      running_corr += torch.sum(preds1 == labels)\n",
    "\n",
    "  totalLoss1 = running_loss/(i+1)\n",
    "  # Calculating gradients\n",
    "  totalLoss1.backward()\n",
    "  #Updating model parameters\n",
    "  optimizer1.step()\n",
    "\n",
    "  epoch_loss = running_loss.item()/(i+1) # Total loss for one epoch\n",
    "  epoch_acc = running_corr.item()/60000\n",
    "\n",
    "  train_loss.append(epoch_loss) # Saving the loss over epochs for plotting the graph\n",
    "  train_acc.append(epoch_acc)\n",
    "\n",
    "  print('Epoch {:.0f}/{:.0f} : Training loss: {:.4f} | Training accuracy: {:.4f}'.format(epoch+1, 50, epoch_loss, epoch_acc))"
   ]
  },
  {
   "cell_type": "code",
   "execution_count": 17,
   "metadata": {
    "colab": {
     "base_uri": "https://localhost:8080/",
     "height": 668
    },
    "id": "Op_KUyrxZUk4",
    "outputId": "8830deab-d753-49e2-bca0-aaf0f84ec377"
   },
   "outputs": [
    {
     "data": {
      "text/plain": [
       "Text(0, 0.5, 'Training Accuracy')"
      ]
     },
     "execution_count": 17,
     "metadata": {
      "tags": []
     },
     "output_type": "execute_result"
    },
    {
     "data": {
      "image/png": "[encoded data removed]",
      "text/plain": [
       "<Figure size 1080x360 with 1 Axes>"
      ]
     },
     "metadata": {
      "needs_background": "light",
      "tags": []
     },
     "output_type": "display_data"
    },
    {
     "data": {
      "image/png": "[encoded data removed]",
      "text/plain": [
       "<Figure size 1080x360 with 1 Axes>"
      ]
     },
     "metadata": {
      "needs_background": "light",
      "tags": []
     },
     "output_type": "display_data"
    }
   ],
   "source": [
    "fig = plt.figure(figsize=[15,5])\n",
    "plt.subplot(121)\n",
    "plt.plot(range(num_epochs), train_loss, 'r-', label='Batch size=256')\n",
    "\n",
    "plt.legend(loc='upper right')\n",
    "plt.xlabel('Epoch')\n",
    "plt.ylabel('Training Loss/Error')\n",
    "\n",
    "fig = plt.figure(figsize=[15,5])\n",
    "plt.subplot(121)\n",
    "plt.plot(range(num_epochs), train_acc, 'r-', label='Batch size=256')\n",
    "\n",
    "plt.legend(loc='upper right')\n",
    "plt.xlabel('Epoch')\n",
    "plt.ylabel('Training Accuracy')criterion = nn.CrossEntropyLoss()\n",
    "learning_rate1 = 0.1\n",
    "optimizer1 = optim.SGD(net1.parameters(), lr = learning_rate1, momentum=0.9)\n",
    "num_epochs = 25\n",
    "\n",
    "train_loss = []\n",
    "train_acc = []\n",
    "for epoch in range(num_epochs):\n",
    "  running_loss = 0.0\n",
    "  running_corr = 0\n",
    "  for i, data in enumerate(trainLoader):\n",
    "    inputs, labels = data\n",
    "    if use_gpu:\n",
    "      inputs, labels = inputs.cuda(), labels.cuda()\n",
    "      # Initializing model gradients to zero\n",
    "      optimizer1.zero_grad()\n",
    "      # Data feed-forward through the network\n",
    "      outputs1 = net1(inputs)\n",
    "      preds1 = torch.argmax(outputs1, dim=1)\n",
    "      # Finding the loss\n",
    "      loss = criterion(outputs1, labels)\n",
    "      # Accumulating the loss for each batch\n",
    "      running_loss+=loss\n",
    "      # Accumulating the number of correct predictions\n",
    "      running_corr += torch.sum(preds1 == labels)\n",
    "\n",
    "  totalLoss1 = running_loss/(i+1)\n",
    "  # Calculating gradients\n",
    "  totalLoss1.backward()\n",
    "  #Updating model parameters\n",
    "  optimizer1.step()\n",
    "\n",
    "  epoch_loss = running_loss.item()/(i+1) # Total loss for one epoch\n",
    "  epoch_acc = running_corr.item()/60000\n",
    "\n",
    "  train_loss.append(epoch_loss) # Saving the loss over epochs for plotting the graph\n",
    "  train_acc.append(epoch_acc)\n",
    "\n",
    "  print('Epoch {:.0f}/{:.0f} : Training loss: {:.4f} | Training accuracy: {:.4f}'.format(epoch+1, 50, epoch_loss, epoch_acc))"
   ]
  },
  {
   "cell_type": "markdown",
   "metadata": {},
   "source": [
    "#6 .c)The accuracy first increases then at a particular value 0.28 it becomes maximum then decreases suddenly. Hence this is the point of convergence and this value should be chosen for the model."
   ]
  },
  {
   "cell_type": "code",
   "execution_count": null,
   "metadata": {},
   "outputs": [],
   "source": []
  }
 ],
 "metadata": {
  "accelerator": "GPU",
  "colab": {
   "name": "CNN.ipynb",
   "provenance": []
  },
  "kernelspec": {
   "display_name": "Python 3",
   "language": "python",
   "name": "python3"
  },
  "language_info": {
   "codemirror_mode": {
    "name": "ipython",
    "version": 3
   },
   "file_extension": ".py",
   "mimetype": "text/x-python",
   "name": "python",
   "nbconvert_exporter": "python",
   "pygments_lexer": "ipython3",
   "version": "3.7.4"
  },
  "widgets": {
   "application/vnd.jupyter.widget-state+json": {
    "01b42af4068e4fe6b6ca0811af925cad": {
     "model_module": "@jupyter-widgets/base",
     "model_name": "LayoutModel",
     "state": {
      "_model_module": "@jupyter-widgets/base",
      "_model_module_version": "1.2.0",
      "_model_name": "LayoutModel",
      "_view_count": null,
      "_view_module": "@jupyter-widgets/base",
      "_view_module_version": "1.2.0",
      "_view_name": "LayoutView",
      "align_content": null,
      "align_items": null,
      "align_self": null,
      "border": null,
      "bottom": null,
      "display": null,
      "flex": null,
      "flex_flow": null,
      "grid_area": null,
      "grid_auto_columns": null,
      "grid_auto_flow": null,
      "grid_auto_rows": null,
      "grid_column": null,
      "grid_gap": null,
      "grid_row": null,
      "grid_template_areas": null,
      "grid_template_columns": null,
      "grid_template_rows": null,
      "height": null,
      "justify_content": null,
      "justify_items": null,
      "left": null,
      "margin": null,
      "max_height": null,
      "max_width": null,
      "min_height": null,
      "min_width": null,
      "object_fit": null,
      "object_position": null,
      "order": null,
      "overflow": null,
      "overflow_x": null,
      "overflow_y": null,
      "padding": null,
      "right": null,
      "top": null,
      "visibility": null,
      "width": null
     }
    },
    "067aefe4195f422e91defae20766dd5a": {
     "model_module": "@jupyter-widgets/controls",
     "model_name": "DescriptionStyleModel",
     "state": {
      "_model_module": "@jupyter-widgets/controls",
      "_model_module_version": "1.5.0",
      "_model_name": "DescriptionStyleModel",
      "_view_count": null,
      "_view_module": "@jupyter-widgets/base",
      "_view_module_version": "1.2.0",
      "_view_name": "StyleView",
      "description_width": ""
     }
    },
    "1a933d4ca28649d89af607f8e469e780": {
     "model_module": "@jupyter-widgets/controls",
     "model_name": "HTMLModel",
     "state": {
      "_dom_classes": [],
      "_model_module": "@jupyter-widgets/controls",
      "_model_module_version": "1.5.0",
      "_model_name": "HTMLModel",
      "_view_count": null,
      "_view_module": "@jupyter-widgets/controls",
      "_view_module_version": "1.5.0",
      "_view_name": "HTMLView",
      "description": "",
      "description_tooltip": null,
      "layout": "IPY_MODEL_b5d0793feb374dc89e10c39a27ed6446",
      "placeholder": "​",
      "style": "IPY_MODEL_067aefe4195f422e91defae20766dd5a",
      "value": " 9920512/? [00:20&lt;00:00, 2777206.76it/s]"
     }
    },
    "2f7e9f03935648c5a10f8dfcd2449a8b": {
     "model_module": "@jupyter-widgets/controls",
     "model_name": "DescriptionStyleModel",
     "state": {
      "_model_module": "@jupyter-widgets/controls",
      "_model_module_version": "1.5.0",
      "_model_name": "DescriptionStyleModel",
      "_view_count": null,
      "_view_module": "@jupyter-widgets/base",
      "_view_module_version": "1.2.0",
      "_view_name": "StyleView",
      "description_width": ""
     }
    },
    "36835d9e8fc3460f9e0e733962eb9690": {
     "model_module": "@jupyter-widgets/base",
     "model_name": "LayoutModel",
     "state": {
      "_model_module": "@jupyter-widgets/base",
      "_model_module_version": "1.2.0",
      "_model_name": "LayoutModel",
      "_view_count": null,
      "_view_module": "@jupyter-widgets/base",
      "_view_module_version": "1.2.0",
      "_view_name": "LayoutView",
      "align_content": null,
      "align_items": null,
      "align_self": null,
      "border": null,
      "bottom": null,
      "display": null,
      "flex": null,
      "flex_flow": null,
      "grid_area": null,
      "grid_auto_columns": null,
      "grid_auto_flow": null,
      "grid_auto_rows": null,
      "grid_column": null,
      "grid_gap": null,
      "grid_row": null,
      "grid_template_areas": null,
      "grid_template_columns": null,
      "grid_template_rows": null,
      "height": null,
      "justify_content": null,
      "justify_items": null,
      "left": null,
      "margin": null,
      "max_height": null,
      "max_width": null,
      "min_height": null,
      "min_width": null,
      "object_fit": null,
      "object_position": null,
      "order": null,
      "overflow": null,
      "overflow_x": null,
      "overflow_y": null,
      "padding": null,
      "right": null,
      "top": null,
      "visibility": null,
      "width": null
     }
    },
    "44e62184f8e64c4a8d84f93a41fc8317": {
     "model_module": "@jupyter-widgets/base",
     "model_name": "LayoutModel",
     "state": {
      "_model_module": "@jupyter-widgets/base",
      "_model_module_version": "1.2.0",
      "_model_name": "LayoutModel",
      "_view_count": null,
      "_view_module": "@jupyter-widgets/base",
      "_view_module_version": "1.2.0",
      "_view_name": "LayoutView",
      "align_content": null,
      "align_items": null,
      "align_self": null,
      "border": null,
      "bottom": null,
      "display": null,
      "flex": null,
      "flex_flow": null,
      "grid_area": null,
      "grid_auto_columns": null,
      "grid_auto_flow": null,
      "grid_auto_rows": null,
      "grid_column": null,
      "grid_gap": null,
      "grid_row": null,
      "grid_template_areas": null,
      "grid_template_columns": null,
      "grid_template_rows": null,
      "height": null,
      "justify_content": null,
      "justify_items": null,
      "left": null,
      "margin": null,
      "max_height": null,
      "max_width": null,
      "min_height": null,
      "min_width": null,
      "object_fit": null,
      "object_position": null,
      "order": null,
      "overflow": null,
      "overflow_x": null,
      "overflow_y": null,
      "padding": null,
      "right": null,
      "top": null,
      "visibility": null,
      "width": null
     }
    },
    "4ae669af75f448b58dccf6e66e07c0a0": {
     "model_module": "@jupyter-widgets/controls",
     "model_name": "HBoxModel",
     "state": {
      "_dom_classes": [],
      "_model_module": "@jupyter-widgets/controls",
      "_model_module_version": "1.5.0",
      "_model_name": "HBoxModel",
      "_view_count": null,
      "_view_module": "@jupyter-widgets/controls",
      "_view_module_version": "1.5.0",
      "_view_name": "HBoxView",
      "box_style": "",
      "children": [
       "IPY_MODEL_82d24c8b36d448cd96871b8138292568",
       "IPY_MODEL_63426bc36dbb407a90558867b41373fe"
      ],
      "layout": "IPY_MODEL_7cb96bfd14f647b3a86193794a91c76c"
     }
    },
    "4c6bfc9d21fd473bbf353f2f49986225": {
     "model_module": "@jupyter-widgets/controls",
     "model_name": "HTMLModel",
     "state": {
      "_dom_classes": [],
      "_model_module": "@jupyter-widgets/controls",
      "_model_module_version": "1.5.0",
      "_model_name": "HTMLModel",
      "_view_count": null,
      "_view_module": "@jupyter-widgets/controls",
      "_view_module_version": "1.5.0",
      "_view_name": "HTMLView",
      "description": "",
      "description_tooltip": null,
      "layout": "IPY_MODEL_a839a902e6174015b9c8d568c80b2349",
      "placeholder": "​",
      "style": "IPY_MODEL_68bf7558d71d47ca9b057014cb2894a5",
      "value": " 0/4542 [00:00&lt;?, ?it/s]"
     }
    },
    "52d621885b074c13a3006e31ac2bc375": {
     "model_module": "@jupyter-widgets/base",
     "model_name": "LayoutModel",
     "state": {
      "_model_module": "@jupyter-widgets/base",
      "_model_module_version": "1.2.0",
      "_model_name": "LayoutModel",
      "_view_count": null,
      "_view_module": "@jupyter-widgets/base",
      "_view_module_version": "1.2.0",
      "_view_name": "LayoutView",
      "align_content": null,
      "align_items": null,
      "align_self": null,
      "border": null,
      "bottom": null,
      "display": null,
      "flex": null,
      "flex_flow": null,
      "grid_area": null,
      "grid_auto_columns": null,
      "grid_auto_flow": null,
      "grid_auto_rows": null,
      "grid_column": null,
      "grid_gap": null,
      "grid_row": null,
      "grid_template_areas": null,
      "grid_template_columns": null,
      "grid_template_rows": null,
      "height": null,
      "justify_content": null,
      "justify_items": null,
      "left": null,
      "margin": null,
      "max_height": null,
      "max_width": null,
      "min_height": null,
      "min_width": null,
      "object_fit": null,
      "object_position": null,
      "order": null,
      "overflow": null,
      "overflow_x": null,
      "overflow_y": null,
      "padding": null,
      "right": null,
      "top": null,
      "visibility": null,
      "width": null
     }
    },
    "5662066785af43d0a2d579976acf9bf3": {
     "model_module": "@jupyter-widgets/base",
     "model_name": "LayoutModel",
     "state": {
      "_model_module": "@jupyter-widgets/base",
      "_model_module_version": "1.2.0",
      "_model_name": "LayoutModel",
      "_view_count": null,
      "_view_module": "@jupyter-widgets/base",
      "_view_module_version": "1.2.0",
      "_view_name": "LayoutView",
      "align_content": null,
      "align_items": null,
      "align_self": null,
      "border": null,
      "bottom": null,
      "display": null,
      "flex": null,
      "flex_flow": null,
      "grid_area": null,
      "grid_auto_columns": null,
      "grid_auto_flow": null,
      "grid_auto_rows": null,
      "grid_column": null,
      "grid_gap": null,
      "grid_row": null,
      "grid_template_areas": null,
      "grid_template_columns": null,
      "grid_template_rows": null,
      "height": null,
      "justify_content": null,
      "justify_items": null,
      "left": null,
      "margin": null,
      "max_height": null,
      "max_width": null,
      "min_height": null,
      "min_width": null,
      "object_fit": null,
      "object_position": null,
      "order": null,
      "overflow": null,
      "overflow_x": null,
      "overflow_y": null,
      "padding": null,
      "right": null,
      "top": null,
      "visibility": null,
      "width": null
     }
    },
    "63426bc36dbb407a90558867b41373fe": {
     "model_module": "@jupyter-widgets/controls",
     "model_name": "HTMLModel",
     "state": {
      "_dom_classes": [],
      "_model_module": "@jupyter-widgets/controls",
      "_model_module_version": "1.5.0",
      "_model_name": "HTMLModel",
      "_view_count": null,
      "_view_module": "@jupyter-widgets/controls",
      "_view_module_version": "1.5.0",
      "_view_name": "HTMLView",
      "description": "",
      "description_tooltip": null,
      "layout": "IPY_MODEL_7a4faf6f8adb4b06831165ae63659d65",
      "placeholder": "​",
      "style": "IPY_MODEL_70e2235bf6ec44e2ad10ab4f657df121",
      "value": " 1654784/? [00:19&lt;00:00, 2007514.70it/s]"
     }
    },
    "688bf0d71b5648939b2f668c6fa342af": {
     "model_module": "@jupyter-widgets/controls",
     "model_name": "FloatProgressModel",
     "state": {
      "_dom_classes": [],
      "_model_module": "@jupyter-widgets/controls",
      "_model_module_version": "1.5.0",
      "_model_name": "FloatProgressModel",
      "_view_count": null,
      "_view_module": "@jupyter-widgets/controls",
      "_view_module_version": "1.5.0",
      "_view_name": "ProgressView",
      "bar_style": "info",
      "description": "  0%",
      "description_tooltip": null,
      "layout": "IPY_MODEL_5662066785af43d0a2d579976acf9bf3",
      "max": 1,
      "min": 0,
      "orientation": "horizontal",
      "style": "IPY_MODEL_c4926915bb564fa596da36bfb9c00c02",
      "value": 0
     }
    },
    "68bf7558d71d47ca9b057014cb2894a5": {
     "model_module": "@jupyter-widgets/controls",
     "model_name": "DescriptionStyleModel",
     "state": {
      "_model_module": "@jupyter-widgets/controls",
      "_model_module_version": "1.5.0",
      "_model_name": "DescriptionStyleModel",
      "_view_count": null,
      "_view_module": "@jupyter-widgets/base",
      "_view_module_version": "1.2.0",
      "_view_name": "StyleView",
      "description_width": ""
     }
    },
    "70e2235bf6ec44e2ad10ab4f657df121": {
     "model_module": "@jupyter-widgets/controls",
     "model_name": "DescriptionStyleModel",
     "state": {
      "_model_module": "@jupyter-widgets/controls",
      "_model_module_version": "1.5.0",
      "_model_name": "DescriptionStyleModel",
      "_view_count": null,
      "_view_module": "@jupyter-widgets/base",
      "_view_module_version": "1.2.0",
      "_view_name": "StyleView",
      "description_width": ""
     }
    },
    "7a4faf6f8adb4b06831165ae63659d65": {
     "model_module": "@jupyter-widgets/base",
     "model_name": "LayoutModel",
     "state": {
      "_model_module": "@jupyter-widgets/base",
      "_model_module_version": "1.2.0",
      "_model_name": "LayoutModel",
      "_view_count": null,
      "_view_module": "@jupyter-widgets/base",
      "_view_module_version": "1.2.0",
      "_view_name": "LayoutView",
      "align_content": null,
      "align_items": null,
      "align_self": null,
      "border": null,
      "bottom": null,
      "display": null,
      "flex": null,
      "flex_flow": null,
      "grid_area": null,
      "grid_auto_columns": null,
      "grid_auto_flow": null,
      "grid_auto_rows": null,
      "grid_column": null,
      "grid_gap": null,
      "grid_row": null,
      "grid_template_areas": null,
      "grid_template_columns": null,
      "grid_template_rows": null,
      "height": null,
      "justify_content": null,
      "justify_items": null,
      "left": null,
      "margin": null,
      "max_height": null,
      "max_width": null,
      "min_height": null,
      "min_width": null,
      "object_fit": null,
      "object_position": null,
      "order": null,
      "overflow": null,
      "overflow_x": null,
      "overflow_y": null,
      "padding": null,
      "right": null,
      "top": null,
      "visibility": null,
      "width": null
     }
    },
    "7c313f9661af4dcf95da4e3a61518098": {
     "model_module": "@jupyter-widgets/base",
     "model_name": "LayoutModel",
     "state": {
      "_model_module": "@jupyter-widgets/base",
      "_model_module_version": "1.2.0",
      "_model_name": "LayoutModel",
      "_view_count": null,
      "_view_module": "@jupyter-widgets/base",
      "_view_module_version": "1.2.0",
      "_view_name": "LayoutView",
      "align_content": null,
      "align_items": null,
      "align_self": null,
      "border": null,
      "bottom": null,
      "display": null,
      "flex": null,
      "flex_flow": null,
      "grid_area": null,
      "grid_auto_columns": null,
      "grid_auto_flow": null,
      "grid_auto_rows": null,
      "grid_column": null,
      "grid_gap": null,
      "grid_row": null,
      "grid_template_areas": null,
      "grid_template_columns": null,
      "grid_template_rows": null,
      "height": null,
      "justify_content": null,
      "justify_items": null,
      "left": null,
      "margin": null,
      "max_height": null,
      "max_width": null,
      "min_height": null,
      "min_width": null,
      "object_fit": null,
      "object_position": null,
      "order": null,
      "overflow": null,
      "overflow_x": null,
      "overflow_y": null,
      "padding": null,
      "right": null,
      "top": null,
      "visibility": null,
      "width": null
     }
    },
    "7cb96bfd14f647b3a86193794a91c76c": {
     "model_module": "@jupyter-widgets/base",
     "model_name": "LayoutModel",
     "state": {
      "_model_module": "@jupyter-widgets/base",
      "_model_module_version": "1.2.0",
      "_model_name": "LayoutModel",
      "_view_count": null,
      "_view_module": "@jupyter-widgets/base",
      "_view_module_version": "1.2.0",
      "_view_name": "LayoutView",
      "align_content": null,
      "align_items": null,
      "align_self": null,
      "border": null,
      "bottom": null,
      "display": null,
      "flex": null,
      "flex_flow": null,
      "grid_area": null,
      "grid_auto_columns": null,
      "grid_auto_flow": null,
      "grid_auto_rows": null,
      "grid_column": null,
      "grid_gap": null,
      "grid_row": null,
      "grid_template_areas": null,
      "grid_template_columns": null,
      "grid_template_rows": null,
      "height": null,
      "justify_content": null,
      "justify_items": null,
      "left": null,
      "margin": null,
      "max_height": null,
      "max_width": null,
      "min_height": null,
      "min_width": null,
      "object_fit": null,
      "object_position": null,
      "order": null,
      "overflow": null,
      "overflow_x": null,
      "overflow_y": null,
      "padding": null,
      "right": null,
      "top": null,
      "visibility": null,
      "width": null
     }
    },
    "82d24c8b36d448cd96871b8138292568": {
     "model_module": "@jupyter-widgets/controls",
     "model_name": "FloatProgressModel",
     "state": {
      "_dom_classes": [],
      "_model_module": "@jupyter-widgets/controls",
      "_model_module_version": "1.5.0",
      "_model_name": "FloatProgressModel",
      "_view_count": null,
      "_view_module": "@jupyter-widgets/controls",
      "_view_module_version": "1.5.0",
      "_view_name": "ProgressView",
      "bar_style": "info",
      "description": "",
      "description_tooltip": null,
      "layout": "IPY_MODEL_a09b90c7dbdb41feb3c3814e2a9e53d8",
      "max": 1,
      "min": 0,
      "orientation": "horizontal",
      "style": "IPY_MODEL_a3c3c157fe654377be185ceb922c60b0",
      "value": 1
     }
    },
    "8b8f7d85b3864e4387d514d348152412": {
     "model_module": "@jupyter-widgets/controls",
     "model_name": "FloatProgressModel",
     "state": {
      "_dom_classes": [],
      "_model_module": "@jupyter-widgets/controls",
      "_model_module_version": "1.5.0",
      "_model_name": "FloatProgressModel",
      "_view_count": null,
      "_view_module": "@jupyter-widgets/controls",
      "_view_module_version": "1.5.0",
      "_view_name": "ProgressView",
      "bar_style": "info",
      "description": "",
      "description_tooltip": null,
      "layout": "IPY_MODEL_44e62184f8e64c4a8d84f93a41fc8317",
      "max": 1,
      "min": 0,
      "orientation": "horizontal",
      "style": "IPY_MODEL_8c466a248833475687d0f28de0a35e32",
      "value": 1
     }
    },
    "8c2e8591c4e548bcb48af382289c39e3": {
     "model_module": "@jupyter-widgets/controls",
     "model_name": "HTMLModel",
     "state": {
      "_dom_classes": [],
      "_model_module": "@jupyter-widgets/controls",
      "_model_module_version": "1.5.0",
      "_model_name": "HTMLModel",
      "_view_count": null,
      "_view_module": "@jupyter-widgets/controls",
      "_view_module_version": "1.5.0",
      "_view_name": "HTMLView",
      "description": "",
      "description_tooltip": null,
      "layout": "IPY_MODEL_ec96631b87524d1791b4e76360dc9e23",
      "placeholder": "​",
      "style": "IPY_MODEL_2f7e9f03935648c5a10f8dfcd2449a8b",
      "value": " 0/28881 [00:00&lt;?, ?it/s]"
     }
    },
    "8c466a248833475687d0f28de0a35e32": {
     "model_module": "@jupyter-widgets/controls",
     "model_name": "ProgressStyleModel",
     "state": {
      "_model_module": "@jupyter-widgets/controls",
      "_model_module_version": "1.5.0",
      "_model_name": "ProgressStyleModel",
      "_view_count": null,
      "_view_module": "@jupyter-widgets/base",
      "_view_module_version": "1.2.0",
      "_view_name": "StyleView",
      "bar_color": null,
      "description_width": "initial"
     }
    },
    "9029a67efef54eab9d8ca14bb8b43ded": {
     "model_module": "@jupyter-widgets/controls",
     "model_name": "HBoxModel",
     "state": {
      "_dom_classes": [],
      "_model_module": "@jupyter-widgets/controls",
      "_model_module_version": "1.5.0",
      "_model_name": "HBoxModel",
      "_view_count": null,
      "_view_module": "@jupyter-widgets/controls",
      "_view_module_version": "1.5.0",
      "_view_name": "HBoxView",
      "box_style": "",
      "children": [
       "IPY_MODEL_8b8f7d85b3864e4387d514d348152412",
       "IPY_MODEL_1a933d4ca28649d89af607f8e469e780"
      ],
      "layout": "IPY_MODEL_7c313f9661af4dcf95da4e3a61518098"
     }
    },
    "a086587d4bdb4fcfad43e318834805f1": {
     "model_module": "@jupyter-widgets/controls",
     "model_name": "HBoxModel",
     "state": {
      "_dom_classes": [],
      "_model_module": "@jupyter-widgets/controls",
      "_model_module_version": "1.5.0",
      "_model_name": "HBoxModel",
      "_view_count": null,
      "_view_module": "@jupyter-widgets/controls",
      "_view_module_version": "1.5.0",
      "_view_name": "HBoxView",
      "box_style": "",
      "children": [
       "IPY_MODEL_dd8a76d7b5fa4ab39431048f87057890",
       "IPY_MODEL_8c2e8591c4e548bcb48af382289c39e3"
      ],
      "layout": "IPY_MODEL_52d621885b074c13a3006e31ac2bc375"
     }
    },
    "a09b90c7dbdb41feb3c3814e2a9e53d8": {
     "model_module": "@jupyter-widgets/base",
     "model_name": "LayoutModel",
     "state": {
      "_model_module": "@jupyter-widgets/base",
      "_model_module_version": "1.2.0",
      "_model_name": "LayoutModel",
      "_view_count": null,
      "_view_module": "@jupyter-widgets/base",
      "_view_module_version": "1.2.0",
      "_view_name": "LayoutView",
      "align_content": null,
      "align_items": null,
      "align_self": null,
      "border": null,
      "bottom": null,
      "display": null,
      "flex": null,
      "flex_flow": null,
      "grid_area": null,
      "grid_auto_columns": null,
      "grid_auto_flow": null,
      "grid_auto_rows": null,
      "grid_column": null,
      "grid_gap": null,
      "grid_row": null,
      "grid_template_areas": null,
      "grid_template_columns": null,
      "grid_template_rows": null,
      "height": null,
      "justify_content": null,
      "justify_items": null,
      "left": null,
      "margin": null,
      "max_height": null,
      "max_width": null,
      "min_height": null,
      "min_width": null,
      "object_fit": null,
      "object_position": null,
      "order": null,
      "overflow": null,
      "overflow_x": null,
      "overflow_y": null,
      "padding": null,
      "right": null,
      "top": null,
      "visibility": null,
      "width": null
     }
    },
    "a3c3c157fe654377be185ceb922c60b0": {
     "model_module": "@jupyter-widgets/controls",
     "model_name": "ProgressStyleModel",
     "state": {
      "_model_module": "@jupyter-widgets/controls",
      "_model_module_version": "1.5.0",
      "_model_name": "ProgressStyleModel",
      "_view_count": null,
      "_view_module": "@jupyter-widgets/base",
      "_view_module_version": "1.2.0",
      "_view_name": "StyleView",
      "bar_color": null,
      "description_width": "initial"
     }
    },
    "a839a902e6174015b9c8d568c80b2349": {
     "model_module": "@jupyter-widgets/base",
     "model_name": "LayoutModel",
     "state": {
      "_model_module": "@jupyter-widgets/base",
      "_model_module_version": "1.2.0",
      "_model_name": "LayoutModel",
      "_view_count": null,
      "_view_module": "@jupyter-widgets/base",
      "_view_module_version": "1.2.0",
      "_view_name": "LayoutView",
      "align_content": null,
      "align_items": null,
      "align_self": null,
      "border": null,
      "bottom": null,
      "display": null,
      "flex": null,
      "flex_flow": null,
      "grid_area": null,
      "grid_auto_columns": null,
      "grid_auto_flow": null,
      "grid_auto_rows": null,
      "grid_column": null,
      "grid_gap": null,
      "grid_row": null,
      "grid_template_areas": null,
      "grid_template_columns": null,
      "grid_template_rows": null,
      "height": null,
      "justify_content": null,
      "justify_items": null,
      "left": null,
      "margin": null,
      "max_height": null,
      "max_width": null,
      "min_height": null,
      "min_width": null,
      "object_fit": null,
      "object_position": null,
      "order": null,
      "overflow": null,
      "overflow_x": null,
      "overflow_y": null,
      "padding": null,
      "right": null,
      "top": null,
      "visibility": null,
      "width": null
     }
    },
    "b33e1b9cd9df49a6955ab2f0c098a0ab": {
     "model_module": "@jupyter-widgets/controls",
     "model_name": "HBoxModel",
     "state": {
      "_dom_classes": [],
      "_model_module": "@jupyter-widgets/controls",
      "_model_module_version": "1.5.0",
      "_model_name": "HBoxModel",
      "_view_count": null,
      "_view_module": "@jupyter-widgets/controls",
      "_view_module_version": "1.5.0",
      "_view_name": "HBoxView",
      "box_style": "",
      "children": [
       "IPY_MODEL_688bf0d71b5648939b2f668c6fa342af",
       "IPY_MODEL_4c6bfc9d21fd473bbf353f2f49986225"
      ],
      "layout": "IPY_MODEL_01b42af4068e4fe6b6ca0811af925cad"
     }
    },
    "b5d0793feb374dc89e10c39a27ed6446": {
     "model_module": "@jupyter-widgets/base",
     "model_name": "LayoutModel",
     "state": {
      "_model_module": "@jupyter-widgets/base",
      "_model_module_version": "1.2.0",
      "_model_name": "LayoutModel",
      "_view_count": null,
      "_view_module": "@jupyter-widgets/base",
      "_view_module_version": "1.2.0",
      "_view_name": "LayoutView",
      "align_content": null,
      "align_items": null,
      "align_self": null,
      "border": null,
      "bottom": null,
      "display": null,
      "flex": null,
      "flex_flow": null,
      "grid_area": null,
      "grid_auto_columns": null,
      "grid_auto_flow": null,
      "grid_auto_rows": null,
      "grid_column": null,
      "grid_gap": null,
      "grid_row": null,
      "grid_template_areas": null,
      "grid_template_columns": null,
      "grid_template_rows": null,
      "height": null,
      "justify_content": null,
      "justify_items": null,
      "left": null,
      "margin": null,
      "max_height": null,
      "max_width": null,
      "min_height": null,
      "min_width": null,
      "object_fit": null,
      "object_position": null,
      "order": null,
      "overflow": null,
      "overflow_x": null,
      "overflow_y": null,
      "padding": null,
      "right": null,
      "top": null,
      "visibility": null,
      "width": null
     }
    },
    "c4926915bb564fa596da36bfb9c00c02": {
     "model_module": "@jupyter-widgets/controls",
     "model_name": "ProgressStyleModel",
     "state": {
      "_model_module": "@jupyter-widgets/controls",
      "_model_module_version": "1.5.0",
      "_model_name": "ProgressStyleModel",
      "_view_count": null,
      "_view_module": "@jupyter-widgets/base",
      "_view_module_version": "1.2.0",
      "_view_name": "StyleView",
      "bar_color": null,
      "description_width": "initial"
     }
    },
    "c55a06f1fd2e45a98eb9b617b6e3db6b": {
     "model_module": "@jupyter-widgets/controls",
     "model_name": "ProgressStyleModel",
     "state": {
      "_model_module": "@jupyter-widgets/controls",
      "_model_module_version": "1.5.0",
      "_model_name": "ProgressStyleModel",
      "_view_count": null,
      "_view_module": "@jupyter-widgets/base",
      "_view_module_version": "1.2.0",
      "_view_name": "StyleView",
      "bar_color": null,
      "description_width": "initial"
     }
    },
    "dd8a76d7b5fa4ab39431048f87057890": {
     "model_module": "@jupyter-widgets/controls",
     "model_name": "FloatProgressModel",
     "state": {
      "_dom_classes": [],
      "_model_module": "@jupyter-widgets/controls",
      "_model_module_version": "1.5.0",
      "_model_name": "FloatProgressModel",
      "_view_count": null,
      "_view_module": "@jupyter-widgets/controls",
      "_view_module_version": "1.5.0",
      "_view_name": "ProgressView",
      "bar_style": "info",
      "description": "  0%",
      "description_tooltip": null,
      "layout": "IPY_MODEL_36835d9e8fc3460f9e0e733962eb9690",
      "max": 1,
      "min": 0,
      "orientation": "horizontal",
      "style": "IPY_MODEL_c55a06f1fd2e45a98eb9b617b6e3db6b",
      "value": 0
     }
    },
    "ec96631b87524d1791b4e76360dc9e23": {
     "model_module": "@jupyter-widgets/base",
     "model_name": "LayoutModel",
     "state": {
      "_model_module": "@jupyter-widgets/base",
      "_model_module_version": "1.2.0",
      "_model_name": "LayoutModel",
      "_view_count": null,
      "_view_module": "@jupyter-widgets/base",
      "_view_module_version": "1.2.0",
      "_view_name": "LayoutView",
      "align_content": null,
      "align_items": null,
      "align_self": null,
      "border": null,
      "bottom": null,
      "display": null,
      "flex": null,
      "flex_flow": null,
      "grid_area": null,
      "grid_auto_columns": null,
      "grid_auto_flow": null,
      "grid_auto_rows": null,
      "grid_column": null,
      "grid_gap": null,
      "grid_row": null,
      "grid_template_areas": null,
      "grid_template_columns": null,
      "grid_template_rows": null,
      "height": null,
      "justify_content": null,
      "justify_items": null,
      "left": null,
      "margin": null,
      "max_height": null,
      "max_width": null,
      "min_height": null,
      "min_width": null,
      "object_fit": null,
      "object_position": null,
      "order": null,
      "overflow": null,
      "overflow_x": null,
      "overflow_y": null,
      "padding": null,
      "right": null,
      "top": null,
      "visibility": null,
      "width": null
     }
    }
   }
  }
 },
 "nbformat": 4,
 "nbformat_minor": 1
}
